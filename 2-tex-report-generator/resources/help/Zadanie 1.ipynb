{
 "cells": [
  {
   "cell_type": "markdown",
   "id": "c8eccffa-03a8-4a21-87f2-40ec99cd795c",
   "metadata": {},
   "source": [
    "### Zadanie 1\n",
    "\n",
    "(3 - 5 min)\n",
    "\n",
    "> Używając powyższych konstrukcji za pomocą Pythona stwórz plik tekstowy `moje_cv.txt` o podobnej treści:\n",
    "> ```text\n",
    "> My name is Vitalii, I'm from Ternopil, Ukraine. \n",
    "> I'm studying Engineering and Data Analysis at Rzeszów University of Technology.\n",
    "> ``` \n",
    "> Tekst może być ułożony inaczej, ale przynajmniej niektóre nazwy powinno się dać zmienić z poziomu Pythona, np. imię, miasto, kraj, itd.\n",
    "\n",
    "Podpowiedzi: \n",
    "- utwórz zmienne dla przechowywania imienia, miasta lub innych nazw/liczb; \n",
    "- przygotuj jeden całkowity ciąg znaków, który zostanie zapisany do pliku;\n",
    "- otwórz plik `moje_cv.txt` w trybie pisania i zapisz przygotowany wcześniej ciąg znaków do niego.\n",
    "\n",
    "Rozwiązanie:"
   ]
  },
  {
   "cell_type": "code",
   "execution_count": 1,
   "id": "e4134c99-e935-4900-97df-e1f0de71c1f1",
   "metadata": {},
   "outputs": [
    {
     "data": {
      "text/plain": [
       "WindowsPath('C:/Users/vital/OneDrive/python/PRZ/knml-python-tutorial-private/2-tex-report-generator/results')"
      ]
     },
     "execution_count": 1,
     "metadata": {},
     "output_type": "execute_result"
    }
   ],
   "source": [
    "import os\n",
    "from pathlib import Path\n",
    "\n",
    "PROJECT_DIR = Path(r\"C:\\Users\\vital\\OneDrive\\python\\PRZ\\knml-python-tutorial-private\\2-tex-report-generator\")\n",
    "OUTPUT_DIR = PROJECT_DIR.joinpath(\"results\")\n",
    "OUTPUT_DIR"
   ]
  },
  {
   "cell_type": "code",
   "execution_count": 2,
   "id": "e7544eea-986b-4633-949d-80adb3ca8bf9",
   "metadata": {},
   "outputs": [],
   "source": [
    "name = \"Vitalii\"\n",
    "city = \"Ternopil\"\n",
    "country = \"Ukraine\"\n",
    "course = \"Engineering and Data Analysis\"\n",
    "university = \"Rzeszów University of Technology\"\n",
    "\n",
    "text = f\"My name is {name}, I'm from {city}, {country}.\\nI'm studying {course} at {university}.\"\n",
    "\n",
    "with open(OUTPUT_DIR.joinpath(\"moje_cv.txt\"), mode=\"w\", encoding=\"UTF-8\") as my_cv:\n",
    "    my_cv.write(text)"
   ]
  }
 ],
 "metadata": {
  "kernelspec": {
   "display_name": "Python 3 (ipykernel)",
   "language": "python",
   "name": "python3"
  },
  "language_info": {
   "codemirror_mode": {
    "name": "ipython",
    "version": 3
   },
   "file_extension": ".py",
   "mimetype": "text/x-python",
   "name": "python",
   "nbconvert_exporter": "python",
   "pygments_lexer": "ipython3",
   "version": "3.10.4"
  }
 },
 "nbformat": 4,
 "nbformat_minor": 5
}
