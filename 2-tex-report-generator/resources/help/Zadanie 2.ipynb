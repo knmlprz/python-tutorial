{
 "cells": [
  {
   "cell_type": "markdown",
   "id": "b1b81cb3-a465-432a-a2a2-f7a72163145e",
   "metadata": {
    "tags": []
   },
   "source": [
    "\n",
    "### Zadanie 2\n",
    "\n",
    "(5 - 7 min)\n",
    "\n",
    "> 1. Poprosić użytkownika o podanie kilku nazw przedmiotów.\n",
    "> 2. Stworzyć listę złożoną z takiej samej ilości losowych liczb.\n",
    "> 3. Używając znanych poleceń, wypisać oceny obok każdego przedmiotu (jak na przykładzie poniżej).\n",
    "> 4. Stworzyć plik `oceny.txt` w którym wypisać oceny do każdego przedmiotu. \n",
    "> \n",
    "> \n",
    "> Oczekiwany widok pliku `oceny.txt`: \n",
    "> ```text\n",
    "> Analiza Matematyczna - 5\n",
    "> Język Angielski - 4\n",
    "> Bussiness Intelligence - 3\n",
    "> Matematyka Wyżasza dla Inżynierów - 4\n",
    "> Sztuczna Inteligencja - 5\n",
    "> ```\n",
    "\n",
    "\n",
    "Podpowiedzi: \n",
    "- warto stworzyć pustą listę dla przedmiotów podawanych przez użytkownika;\n",
    "- funkcje `input(\"Podaj liczbe:\")` i `zip(lista1, lista2)` mogą się przydać;\n",
    "- losować liczby w Pythonie umie funkcja `random.randint(a,b)` modułu `random`;\n",
    "- nowe linie można tworzyć za pomocą symbolu `\\n`.\n",
    "\n",
    "\n",
    "Rozwiązanie:"
   ]
  },
  {
   "cell_type": "code",
   "execution_count": 1,
   "id": "e4134c99-e935-4900-97df-e1f0de71c1f1",
   "metadata": {},
   "outputs": [
    {
     "data": {
      "text/plain": [
       "WindowsPath('C:/Users/vital/OneDrive/python/PRZ/knml-python-tutorial-private/2-tex-report-generator/results')"
      ]
     },
     "execution_count": 1,
     "metadata": {},
     "output_type": "execute_result"
    }
   ],
   "source": [
    "import os\n",
    "from pathlib import Path\n",
    "\n",
    "PROJECT_DIR = Path(r\"C:\\Users\\vital\\OneDrive\\python\\PRZ\\knml-python-tutorial-private\\2-tex-report-generator\")\n",
    "OUTPUT_DIR = PROJECT_DIR.joinpath(\"results\")\n",
    "OUTPUT_DIR"
   ]
  },
  {
   "cell_type": "code",
   "execution_count": 2,
   "id": "93fd9866-392e-4c6e-b9c5-d0c90cd842c0",
   "metadata": {},
   "outputs": [
    {
     "name": "stdin",
     "output_type": "stream",
     "text": [
      "Podaj przedmiot: Analiza matematyczna\n",
      "Podaj przedmiot: Język angielski \n",
      "Podaj przedmiot: Wychowanie fizyczne\n"
     ]
    },
    {
     "name": "stdout",
     "output_type": "stream",
     "text": [
      "Analiza matematyczna - 3\n",
      "Język angielski  - 5\n",
      "Wychowanie fizyczne - 5\n",
      "\n"
     ]
    }
   ],
   "source": [
    "import random\n",
    "\n",
    "przedmioty = []\n",
    "oceny = []\n",
    "for i in range(3):\n",
    "    przedmioty.append(input(\"Podaj przedmiot:\"))\n",
    "    oceny.append(random.randint(2, 5))\n",
    "\n",
    "wyniki = \"\"\n",
    "for ocena, przedmiot in zip(oceny, przedmioty):\n",
    "    wyniki += f\"{przedmiot} - {ocena}\\n\"\n",
    "print(wyniki)\n",
    "\n",
    "with open(OUTPUT_DIR.joinpath(\"oceny.txt\"), mode=\"w\", encoding=\"UTF-8\") as plik_wyniki:\n",
    "    plik_wyniki.write(wyniki)"
   ]
  }
 ],
 "metadata": {
  "kernelspec": {
   "display_name": "Python 3 (ipykernel)",
   "language": "python",
   "name": "python3"
  },
  "language_info": {
   "codemirror_mode": {
    "name": "ipython",
    "version": 3
   },
   "file_extension": ".py",
   "mimetype": "text/x-python",
   "name": "python",
   "nbconvert_exporter": "python",
   "pygments_lexer": "ipython3",
   "version": "3.10.4"
  }
 },
 "nbformat": 4,
 "nbformat_minor": 5
}
