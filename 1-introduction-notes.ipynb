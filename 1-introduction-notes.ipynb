{
 "cells": [
  {
   "cell_type": "markdown",
   "metadata": {},
   "source": [
    "# Notka dla prowadzącego: jak prowadzić ten kurs.\n",
    "\n",
    "Kurs ten został przygotowany z myślą o ludziach, którzy nigdy nie programowali - pamiętaj o tym, ktoś kto ma jakiekolwiek doświadczenie będzie się nudził. \n",
    "\n",
    "*Środowisko pracy*: Google colab https://colab.research.google.com/\n",
    "\n",
    "lub: `jupyterlab`\n",
    "\n",
    "Tekst wypisany poniżej to notatki dla Ciebie, chciałbym abyś przeprowadził ten kurs na żywo, udostępniając kursantom wyłącznie pierwszy akapit wraz z listą zasad w postaci notebooka w google colab."
   ]
  },
  {
   "cell_type": "markdown",
   "metadata": {},
   "source": [
    "# Agenda spotkania\n",
    "\n",
    "1. Zapoznanie z praktycznym problemem - gra w zgadywanie\n",
    "\n",
    "    1.1 Demo gry\n",
    "3. Uruchomienie środowiska pracy\n",
    "4. Stworzenie gry w Pythonie\n"
   ]
  },
  {
   "cell_type": "markdown",
   "metadata": {},
   "source": [
    "# Praktyczny wstęp do języka Python\n",
    "Najlepszym sposobem, żeby się czegoś nauczyć jest po prostu spróbwać z jego pomocą rozwiązać jakiś problem. Oczywiście ten problem nie może być zbyt trudny - to dopiero początek. Dlatego wybrałem dla was coś prostego (nie kalkulator!) : Grę w zgadywanie liczby, jeżeli mieliście jakieś doświadczenia z programowaniem to prawdopodobnie wiecie jaka to gra. W skrócie: próbujemy zgadnąć liczbą jaką wylosował komputer, wiedząc czy wybrana przez nas liczba jest mniejsza/większa od wylosowanej. Zanim jednak zaczniemy ją programować musimy ściśle zdefiniować jakie są zasady naszej gry:\n",
    "\n",
    "1. (Losowanie) Komputer losuje liczbę $n$ z przedziału od 1 do $N$, gdzie $N \\in \\mathbb{N}$.\n",
    "2. (Wprowadzenie liczby) Człowiek wybiera liczbę $k$\n",
    "3. (Odpowiedź komputera) Komputer odpowiada czy liczba $k$ mniejsza, czy większa od $n$.\n",
    "4. (Warunek zwycięstwa) Jeżeli $n=k$ wygrywa człowiek.\n",
    "5. (Warunek przegranej) Człowiek może wykonać maksymalnie $M$ prób, po przekroczeniu tego limitu wygrywa komputer.\n",
    "\n",
    "Znając już zasady możemy wziąć się za programowanie! Ale zanim to zrobimy, musimy koniecznie lepiej nazwać te zmienne. Uwierzcie mi, w pracy to jak nazwiecie coś ma duże znaczenie, bo za 2-3 miesiące nie będziecie tego kodu pamiętać. Więc:\n",
    "- $n$ to `random_num`, gdyż to losowa liczba generowana przez komputer\n",
    "- $N$ to maksymalna wylosowana liczba, naturalnie jest więc ją nazwać `max_num`\n",
    "- $k$ to liczba wybrana przez komputer, pasuje do niej `user_num`"
   ]
  },
  {
   "cell_type": "markdown",
   "metadata": {
    "jp-MarkdownHeadingCollapsed": true,
    "tags": []
   },
   "source": [
    "## Kod gry"
   ]
  },
  {
   "cell_type": "code",
   "execution_count": 5,
   "metadata": {},
   "outputs": [],
   "source": [
    "def run_game():\n",
    "  import random\n",
    "\n",
    "  max_num = 100 # Maksymalna możliwa liczba do wylosowania\n",
    "  random_num = random.randint(1, max_num) # Losujemy niewiadomą\n",
    "\n",
    "  max_moves = 10 # Maksymalna liczba prób\n",
    "  moves = 0  # Na początku nie nie wykonywaliśmy żanego ruchu\n",
    "\n",
    "  while moves < max_moves:\n",
    "      moves += 1 # Dodajemy kolejną próbę\n",
    "\n",
    "      user_num = int(input(\"Podaj liczbę: \"))\n",
    "      print(\"(Ja)\\t\\tWybieram:\", user_num)\n",
    "      \n",
    "      if user_num < random_num:\n",
    "          print(\"(Komputer)\\tMoja liczba jest większa.\")\n",
    "      elif user_num > random_num: \n",
    "          print(\"(Komputer)\\tMoja liczba jest mniejsza.\")\n",
    "      else:\n",
    "          print(\"(Komputer)\\tWygrałeś! Moja liczba to:\", random_num)\n",
    "          break # Kończy pętlę\n",
    "\n",
    "  if moves == max_moves:\n",
    "      print(\"(Komputer)\\tPrzekroczyłeś maksymalną liczbę prób! Wygrałem!!\")"
   ]
  },
  {
   "cell_type": "markdown",
   "metadata": {},
   "source": [
    "## Demo"
   ]
  },
  {
   "cell_type": "code",
   "execution_count": 6,
   "metadata": {},
   "outputs": [
    {
     "name": "stdin",
     "output_type": "stream",
     "text": [
      "Podaj liczbę:  12\n"
     ]
    },
    {
     "name": "stdout",
     "output_type": "stream",
     "text": [
      "(Ja)\t\tWybieram: 12\n",
      "(Komputer)\tMoja liczba jest większa.\n"
     ]
    },
    {
     "ename": "KeyboardInterrupt",
     "evalue": "Interrupted by user",
     "output_type": "error",
     "traceback": [
      "\u001b[0;31m---------------------------------------------------------------------------\u001b[0m",
      "\u001b[0;31mKeyboardInterrupt\u001b[0m                         Traceback (most recent call last)",
      "Input \u001b[0;32mIn [6]\u001b[0m, in \u001b[0;36m<cell line: 1>\u001b[0;34m()\u001b[0m\n\u001b[0;32m----> 1\u001b[0m \u001b[43mrun_game\u001b[49m\u001b[43m(\u001b[49m\u001b[43m)\u001b[49m\n",
      "Input \u001b[0;32mIn [5]\u001b[0m, in \u001b[0;36mrun_game\u001b[0;34m()\u001b[0m\n\u001b[1;32m     10\u001b[0m \u001b[38;5;28;01mwhile\u001b[39;00m moves \u001b[38;5;241m<\u001b[39m max_moves:\n\u001b[1;32m     11\u001b[0m     moves \u001b[38;5;241m+\u001b[39m\u001b[38;5;241m=\u001b[39m \u001b[38;5;241m1\u001b[39m \u001b[38;5;66;03m# Dodajemy kolejną próbę\u001b[39;00m\n\u001b[0;32m---> 13\u001b[0m     user_num \u001b[38;5;241m=\u001b[39m \u001b[38;5;28mint\u001b[39m(\u001b[38;5;28;43minput\u001b[39;49m\u001b[43m(\u001b[49m\u001b[38;5;124;43m\"\u001b[39;49m\u001b[38;5;124;43mPodaj liczbę: \u001b[39;49m\u001b[38;5;124;43m\"\u001b[39;49m\u001b[43m)\u001b[49m)\n\u001b[1;32m     14\u001b[0m     \u001b[38;5;28mprint\u001b[39m(\u001b[38;5;124m\"\u001b[39m\u001b[38;5;124m(Ja)\u001b[39m\u001b[38;5;130;01m\\t\u001b[39;00m\u001b[38;5;130;01m\\t\u001b[39;00m\u001b[38;5;124mWybieram:\u001b[39m\u001b[38;5;124m\"\u001b[39m, user_num)\n\u001b[1;32m     16\u001b[0m     \u001b[38;5;28;01mif\u001b[39;00m user_num \u001b[38;5;241m<\u001b[39m random_num:\n",
      "File \u001b[0;32m~/miniconda3/lib/python3.9/site-packages/ipykernel/kernelbase.py:1177\u001b[0m, in \u001b[0;36mKernel.raw_input\u001b[0;34m(self, prompt)\u001b[0m\n\u001b[1;32m   1173\u001b[0m \u001b[38;5;28;01mif\u001b[39;00m \u001b[38;5;129;01mnot\u001b[39;00m \u001b[38;5;28mself\u001b[39m\u001b[38;5;241m.\u001b[39m_allow_stdin:\n\u001b[1;32m   1174\u001b[0m     \u001b[38;5;28;01mraise\u001b[39;00m StdinNotImplementedError(\n\u001b[1;32m   1175\u001b[0m         \u001b[38;5;124m\"\u001b[39m\u001b[38;5;124mraw_input was called, but this frontend does not support input requests.\u001b[39m\u001b[38;5;124m\"\u001b[39m\n\u001b[1;32m   1176\u001b[0m     )\n\u001b[0;32m-> 1177\u001b[0m \u001b[38;5;28;01mreturn\u001b[39;00m \u001b[38;5;28;43mself\u001b[39;49m\u001b[38;5;241;43m.\u001b[39;49m\u001b[43m_input_request\u001b[49m\u001b[43m(\u001b[49m\n\u001b[1;32m   1178\u001b[0m \u001b[43m    \u001b[49m\u001b[38;5;28;43mstr\u001b[39;49m\u001b[43m(\u001b[49m\u001b[43mprompt\u001b[49m\u001b[43m)\u001b[49m\u001b[43m,\u001b[49m\n\u001b[1;32m   1179\u001b[0m \u001b[43m    \u001b[49m\u001b[38;5;28;43mself\u001b[39;49m\u001b[38;5;241;43m.\u001b[39;49m\u001b[43m_parent_ident\u001b[49m\u001b[43m[\u001b[49m\u001b[38;5;124;43m\"\u001b[39;49m\u001b[38;5;124;43mshell\u001b[39;49m\u001b[38;5;124;43m\"\u001b[39;49m\u001b[43m]\u001b[49m\u001b[43m,\u001b[49m\n\u001b[1;32m   1180\u001b[0m \u001b[43m    \u001b[49m\u001b[38;5;28;43mself\u001b[39;49m\u001b[38;5;241;43m.\u001b[39;49m\u001b[43mget_parent\u001b[49m\u001b[43m(\u001b[49m\u001b[38;5;124;43m\"\u001b[39;49m\u001b[38;5;124;43mshell\u001b[39;49m\u001b[38;5;124;43m\"\u001b[39;49m\u001b[43m)\u001b[49m\u001b[43m,\u001b[49m\n\u001b[1;32m   1181\u001b[0m \u001b[43m    \u001b[49m\u001b[43mpassword\u001b[49m\u001b[38;5;241;43m=\u001b[39;49m\u001b[38;5;28;43;01mFalse\u001b[39;49;00m\u001b[43m,\u001b[49m\n\u001b[1;32m   1182\u001b[0m \u001b[43m\u001b[49m\u001b[43m)\u001b[49m\n",
      "File \u001b[0;32m~/miniconda3/lib/python3.9/site-packages/ipykernel/kernelbase.py:1219\u001b[0m, in \u001b[0;36mKernel._input_request\u001b[0;34m(self, prompt, ident, parent, password)\u001b[0m\n\u001b[1;32m   1216\u001b[0m             \u001b[38;5;28;01mbreak\u001b[39;00m\n\u001b[1;32m   1217\u001b[0m \u001b[38;5;28;01mexcept\u001b[39;00m \u001b[38;5;167;01mKeyboardInterrupt\u001b[39;00m:\n\u001b[1;32m   1218\u001b[0m     \u001b[38;5;66;03m# re-raise KeyboardInterrupt, to truncate traceback\u001b[39;00m\n\u001b[0;32m-> 1219\u001b[0m     \u001b[38;5;28;01mraise\u001b[39;00m \u001b[38;5;167;01mKeyboardInterrupt\u001b[39;00m(\u001b[38;5;124m\"\u001b[39m\u001b[38;5;124mInterrupted by user\u001b[39m\u001b[38;5;124m\"\u001b[39m) \u001b[38;5;28;01mfrom\u001b[39;00m \u001b[38;5;28mNone\u001b[39m\n\u001b[1;32m   1220\u001b[0m \u001b[38;5;28;01mexcept\u001b[39;00m \u001b[38;5;167;01mException\u001b[39;00m:\n\u001b[1;32m   1221\u001b[0m     \u001b[38;5;28mself\u001b[39m\u001b[38;5;241m.\u001b[39mlog\u001b[38;5;241m.\u001b[39mwarning(\u001b[38;5;124m\"\u001b[39m\u001b[38;5;124mInvalid Message:\u001b[39m\u001b[38;5;124m\"\u001b[39m, exc_info\u001b[38;5;241m=\u001b[39m\u001b[38;5;28;01mTrue\u001b[39;00m)\n",
      "\u001b[0;31mKeyboardInterrupt\u001b[0m: Interrupted by user"
     ]
    }
   ],
   "source": [
    "run_game()"
   ]
  },
  {
   "cell_type": "code",
   "execution_count": null,
   "metadata": {},
   "outputs": [],
   "source": [
    "\n",
    "\n",
    "\n",
    "\n",
    "\n",
    "\n",
    "\n",
    "\n",
    "\n",
    "\n",
    "\n",
    "\n",
    "\n",
    "\n",
    "\n",
    "\n",
    "\n",
    "\n",
    "\n",
    "\n",
    "\n",
    "\n",
    "\n",
    "\n",
    "\n",
    "\n",
    "\n",
    "\n"
   ]
  },
  {
   "cell_type": "markdown",
   "metadata": {},
   "source": [
    "# Rozkładnie problemów na mniejsze\n",
    "\n",
    "Nawet doświadczony programista nie potrafi rozwiązać dużego problemu bez rozłożenia go na mniejsze podproblemy, dlatego zaczniemy przeanalizowania każdej z tych zasad jako osobnego problemu, który musimy rozwiązać i na koniec połączymy je w całość. \n",
    "\n",
    "## Zasada pierwsza: liczby i losowanie liczb całkowitych\n",
    "\n",
    "Komputer losuje liczbę $n$ z przedziału od 1 do $N$, gdzie $N \\in \\mathbb{N}$. Brzmi prosto? I w Pythonie jest to bardzo proste. Zaczniemy od tego jak zapisać liczby w Pythonie. Python posiada posiada dwa rodzaje liczb:"
   ]
  },
  {
   "cell_type": "code",
   "execution_count": null,
   "metadata": {},
   "outputs": [],
   "source": [
    "i = 1   # Tak przypisujemy liczbę całkowitą\n",
    "j = 1.0 # A tak liczbę zmiennoprzecinkową"
   ]
  },
  {
   "cell_type": "markdown",
   "metadata": {},
   "source": [
    "Jupyter pozwala nam podglądnąć czym te liczby są:"
   ]
  },
  {
   "cell_type": "code",
   "execution_count": null,
   "metadata": {},
   "outputs": [],
   "source": [
    "i"
   ]
  },
  {
   "cell_type": "code",
   "execution_count": null,
   "metadata": {},
   "outputs": [],
   "source": [
    "j"
   ]
  },
  {
   "cell_type": "markdown",
   "metadata": {},
   "source": [
    "Wykorzystam teraz coś nowego, a mianowicie funkcję `print`, wypisuje ona wszystkie swoje argumenty."
   ]
  },
  {
   "cell_type": "code",
   "execution_count": null,
   "metadata": {},
   "outputs": [],
   "source": [
    "print(i)"
   ]
  },
  {
   "cell_type": "code",
   "execution_count": null,
   "metadata": {},
   "outputs": [],
   "source": [
    "print(i, j) # Jeżeli podamy więcej niż 1 argument, pozostałe będą oddzielone spacją."
   ]
  },
  {
   "cell_type": "code",
   "execution_count": null,
   "metadata": {},
   "outputs": [],
   "source": [
    "# Przykłady działań na liczbach\n",
    "\n",
    "print(\"i + 1 =\", i + 1) # Dodawanie liczb\n",
    "print(\"i - 1 =\", i - 1) # Odejmowanie liczb\n",
    "print(\"i * 2 =\", i * 1) # Mnożenie liczb\n",
    "print(\"i / 2 =\", i / 1) # Dzielenie liczb\n",
    "print(\"i <= 2 =\", i <= 1) # Porównywanie liczb\n",
    "print(\"i ** 0 =\", i ** 0) # Potęgowanie liczb"
   ]
  },
  {
   "cell_type": "markdown",
   "metadata": {},
   "source": [
    "Wiemy już jak utworzyć zmienne. Zatem jak wylosować liczbę $n$ z przedziału od $1$ do $N$? Python ma sporą bibliotekę standardową i ją wykorzystamy do tego zadania, a konkretniej moduł `random`."
   ]
  },
  {
   "cell_type": "code",
   "execution_count": null,
   "metadata": {},
   "outputs": [],
   "source": [
    "import random"
   ]
  },
  {
   "cell_type": "markdown",
   "metadata": {},
   "source": [
    "**Moduły** w pythonie to pliki zawierające kod, którego można następnie używać w wielu programach. Zaimportowanie modułu daje nam dostęp do funkcji jakie posiada, poprzez składnię `[nazwa modułu].[obiektu]`. Domyślnie dostęp mamy do bilbioteki standardowej Pythona, ale możemy także instalować własne moduły. Jeżeli chcecie użyć funkcji z modułu, także musicie użyć tej składni. Czym są funkcje w pythonie? ;) Już wyjaśniam.\n",
    "\n",
    "**Funkcje** w pythonie to fragmenty kodu, które uruchamiane są wyłącznie gdy je wywołamy. Funkcje wywołuje sie z pomocą `()`, w środku tych nawiasów można przekazać funkcjom zmienne. Przykład znajduje sie poniżej. Funkcji `help` przekazujemy inną funkcję! (ale nie wywołujemy jej)."
   ]
  },
  {
   "cell_type": "code",
   "execution_count": null,
   "metadata": {},
   "outputs": [],
   "source": [
    "help(random.randint) # Polecenie help(obiekt) wyświetla pomoc"
   ]
  },
  {
   "cell_type": "markdown",
   "metadata": {},
   "source": [
    "Tutaj mamy kolejny przykład. Funkcji `random.randint` przekazuję parametry 0 i 5 (mając wiele parametrów kolejne przekazujemy po przecinkach)."
   ]
  },
  {
   "cell_type": "code",
   "execution_count": null,
   "metadata": {},
   "outputs": [],
   "source": [
    "random.randint(0, 5)"
   ]
  },
  {
   "cell_type": "markdown",
   "metadata": {},
   "source": [
    "A gdybyśmy mieli wylosować nasze $n$ wyglądałoby to tak:"
   ]
  },
  {
   "cell_type": "code",
   "execution_count": null,
   "metadata": {},
   "outputs": [],
   "source": [
    "# Utwórzymy zmienną N reprezentującą maksymalną liczbę możliwą do wylosowania\n",
    "max_num = 100 \n",
    "random_num = random.randint(1, max_num) # Losujemy niewiadomą"
   ]
  },
  {
   "cell_type": "markdown",
   "metadata": {},
   "source": [
    "## Zasada druga i trzecia: przekazywanie informacji, konwersja typów i porównywanie zmiennych\n",
    "Musimy powiedzieć naszemu pogramowi, jaką liczbę wybieramy. Do tego wykorzsytamy fukcję `input`. Sprawdźmy jak działa funkcja `input`?"
   ]
  },
  {
   "cell_type": "code",
   "execution_count": null,
   "metadata": {},
   "outputs": [],
   "source": [
    "help(input)"
   ]
  },
  {
   "cell_type": "markdown",
   "metadata": {},
   "source": [
    "Funkcja za argument przyjmuje tekst, który nam wyświetli. Obok tego tekstu pojawi się kursor. Funkcja `input` zwróci wpisaną tam wartość. Na przykład:"
   ]
  },
  {
   "cell_type": "code",
   "execution_count": null,
   "metadata": {},
   "outputs": [],
   "source": [
    "input(\"Cześć, jaka jest twoja ulubiona liczba?\")"
   ]
  },
  {
   "cell_type": "markdown",
   "metadata": {},
   "source": [
    "Tutaj pojawia się problem, ponieważ pojawiły się tu `'`, co oznacza iż python zwrócił nam ciąg znaków, a nie liczbę. Do przekonwertowania ciągu znaków do liczby można wykorzystać funkcję `int`:"
   ]
  },
  {
   "cell_type": "code",
   "execution_count": null,
   "metadata": {},
   "outputs": [],
   "source": [
    "int(\"123\")"
   ]
  },
  {
   "cell_type": "markdown",
   "metadata": {},
   "source": [
    "Dygresja nt. ciągów znaków w pythonie. Ciągi znaków można tworzyc na kilka sposobów:"
   ]
  },
  {
   "cell_type": "code",
   "execution_count": null,
   "metadata": {},
   "outputs": [],
   "source": [
    "hello = \"hello\"\n",
    "world = 'world'\n",
    "# f-string czyli formatted string, \n",
    "# możemy wstawiać zmienne do ciągów znaków, wstawiając je w {}\n",
    "hello_world = f\"{hello} {world}!\" \n",
    "\n",
    "# Wieloliniowy tekst:\n",
    "text = \"\"\"lorem\n",
    "ipsum\n",
    "XD\"\"\""
   ]
  },
  {
   "cell_type": "markdown",
   "metadata": {},
   "source": [
    "Mamy już wszystko, aby poprosić użtkownika o wpisanie liczby:"
   ]
  },
  {
   "cell_type": "code",
   "execution_count": null,
   "metadata": {},
   "outputs": [],
   "source": [
    "user_num = int(input(\"Podaj liczbę: \"))"
   ]
  },
  {
   "cell_type": "code",
   "execution_count": null,
   "metadata": {},
   "outputs": [],
   "source": [
    "user_num"
   ]
  },
  {
   "cell_type": "markdown",
   "metadata": {},
   "source": [
    "Ok, teraz tylko komputer musi odpowiedzieć. Czy wpisana przez nas liczba `user_num` jest większa czy mniejsza od `random_num`. Wykorzystamy do tego operator porównania: `if`. Jego składnia jest następująca. Jeżeli podany warunek jest `True` wykona się każda 'wcięta' linia kodu. Ogólnie zasada jest taka, że bloki kodu (fragmenty wykonujące sie w pętlach/po instrukcjach warunkowych) wyróżnia się wcięciem."
   ]
  },
  {
   "cell_type": "code",
   "execution_count": null,
   "metadata": {},
   "outputs": [],
   "source": [
    "warunek = False\n",
    "\n",
    "if warunek:\n",
    "    print(\"Warunek jest prawdziwy.\")\n",
    "else: \n",
    "    print(\"Warunek nie jest prawdziwy\")"
   ]
  },
  {
   "cell_type": "markdown",
   "metadata": {},
   "source": [
    "Przykłady działania porównań:"
   ]
  },
  {
   "cell_type": "code",
   "execution_count": null,
   "metadata": {},
   "outputs": [],
   "source": [
    " 2 <= 3"
   ]
  },
  {
   "cell_type": "code",
   "execution_count": null,
   "metadata": {},
   "outputs": [],
   "source": [
    "2 == 3"
   ]
  },
  {
   "cell_type": "code",
   "execution_count": null,
   "metadata": {},
   "outputs": [],
   "source": [
    "1 < 2 < 3"
   ]
  },
  {
   "cell_type": "code",
   "execution_count": null,
   "metadata": {},
   "outputs": [],
   "source": [
    "9 < -1"
   ]
  },
  {
   "cell_type": "markdown",
   "metadata": {},
   "source": [
    "Nasz kod porównujący liczbę mógłby wyglądać następująco. `elif` pozwala nam zapisać `else if`."
   ]
  },
  {
   "cell_type": "code",
   "execution_count": null,
   "metadata": {},
   "outputs": [],
   "source": [
    "if user_num < random_num:\n",
    "    print(\"(Komputer): Moja liczba jest większa.\")\n",
    "elif user_num > random_num: \n",
    "    print(\"(Komputer): Moja liczba jest mniejsza.\")\n",
    "else:\n",
    "    print(\"(Komputer): Wygrałeś! Moja liczba to:\", n)"
   ]
  },
  {
   "cell_type": "markdown",
   "metadata": {},
   "source": [
    "## Zasada 5: koniec gry\n",
    "\n",
    "Jak dotąd zagraliśmy w nasą grę wyłącznie raz. Gdybyśmy tak ją pozostawili (Komputer) nie miałby szans wygrać. Musimy zatem pozwolić zagrać w grę wielokrotnie. A jeżeli mamy coś wykonać wielokrotnie, pętle są najlepszym rozwiązaniem. Wykorzystamy pętlę `while`. "
   ]
  },
  {
   "cell_type": "code",
   "execution_count": null,
   "metadata": {},
   "outputs": [],
   "source": [
    "i = 0\n",
    "while i < 5:\n",
    "    print(i)\n",
    "    i = i + 1"
   ]
  },
  {
   "cell_type": "markdown",
   "metadata": {},
   "source": [
    "Nasz kod można skrócić, z pomocą operatora `+=` :"
   ]
  },
  {
   "cell_type": "code",
   "execution_count": null,
   "metadata": {},
   "outputs": [],
   "source": [
    "i = 0\n",
    "while i < 5:\n",
    "    print(i)\n",
    "    i += 1"
   ]
  },
  {
   "cell_type": "markdown",
   "metadata": {},
   "source": [
    "Dygresja: python posiada także inne skrócone operatory: `-=`, `*=`, `/=`."
   ]
  },
  {
   "cell_type": "markdown",
   "metadata": {},
   "source": [
    "Będziemy potrzebować zmiennej ile prób już wykonaliśmy $m$ oraz ile prób możemy maksymalnie wykonac `max_num`. A także dodać kod do pętli `while`, który uruchomi się po tym jak przekroczymy wartość (`else`) i poinformuje że przekroczyliśmy maksymalną liczbę prób. "
   ]
  },
  {
   "cell_type": "code",
   "execution_count": null,
   "metadata": {},
   "outputs": [],
   "source": [
    "max_num = 100 # Maksymalna możliwa liczba do wylosowania\n",
    "random_num = random.randint(1, max_num) # Losujemy niewiadomą\n",
    "\n",
    "max_moves = 10 # Maksymalna liczba prób\n",
    "moves = 0  # Na początku nie nie wykonywaliśmy żanego ruchu\n",
    "\n",
    "while moves < max_moves:\n",
    "    moves += 1 # Dodajemy kolejną próbę\n",
    "\n",
    "    user_num = int(input(\"Podaj liczbę: \"))\n",
    "    print(\"(Ja)\\t\\tWybieram:\", user_num)\n",
    "    \n",
    "    if user_num < random_num:\n",
    "        print(\"(Komputer)\\tMoja liczba jest większa.\")\n",
    "    elif user_num > random_num: \n",
    "        print(\"(Komputer)\\tMoja liczba jest mniejsza.\")\n",
    "    else:\n",
    "        print(\"(Komputer)\\tWygrałeś! Moja liczba to:\", random_num)\n",
    "        break # Kończy pętlę\n",
    "\n",
    "if moves == max_moves:\n",
    "    print(\"(Komputer)\\tPrzekroczyłeś maksymalną liczbę prób! Wygrałem!!\")"
   ]
  },
  {
   "cell_type": "markdown",
   "metadata": {},
   "source": [
    "# Zadanie domowe\n",
    "\n",
    "Grę tę da się rozwiązać tzn. mając pewną liczbę ruchów zawsze wygramy. Twoim zadaniem jest obliczyć jaka jest minimalna liczba ruchów potrzebna, aby zawsze wygrać tą grę?\n",
    "<details>\n",
    "<summary>Podpowiedź</summary>\n",
    "1. Liczba ta zleży od długości przedziału z którego losujemy liczbę\n",
    "2. Poczytaj o: Algorytm bisekcji\n",
    "</details>"
   ]
  },
  {
   "cell_type": "markdown",
   "metadata": {},
   "source": [
    "# Dodatkowy rozdział: co potrafi python\n",
    "\n",
    "To dlaczego na tym kursie pokazujemy wam Pythona to nie przypadek, jest to język wykorzystywany wszędzie: od Data Science po Backend development. W tym ostatnim rozdziale pokażę bogate środowisko Pythona, pokażę wam podstawowe biblioteki, które mogą ułatwić wam pracę.\n",
    "\n",
    "## Jak z nich skorzystać\n",
    "\n",
    "W środowisku Google Colab dodatkowe biblioteki pythona możemy zainstalować poleceniem:\n",
    "```python\n",
    "!pip install <nazwa-paczki> \n",
    "```\n",
    "i odpowiednio, jeżeli chcemy zainstalowac więcej paczek na raz:\n",
    "```python\n",
    "!pip install <nazwa-paczki1> <nazwa-paczki2> <nazwa-paczki3> \n",
    "```\n",
    "\n",
    "Pokażę wam teraz na kilku przykładach co potrafią takie biblioteki. Zaczynając od tej, z której korzystam najczęściej `pandas`:"
   ]
  },
  {
   "cell_type": "code",
   "execution_count": null,
   "metadata": {},
   "outputs": [],
   "source": [
    "!pip install pandas"
   ]
  },
  {
   "cell_type": "markdown",
   "metadata": {},
   "source": [
    "Jeżeli potrzebujecie kiedykolwiek pobrać jakąś tabelkę z wikipedii, to polecam zrobić to z pomoca pandasa. Jednym poleceniem pobierze on wszystkie tabele z podanej strony."
   ]
  },
  {
   "cell_type": "code",
   "execution_count": null,
   "metadata": {},
   "outputs": [],
   "source": [
    "import pandas as pd"
   ]
  },
  {
   "cell_type": "code",
   "execution_count": null,
   "metadata": {},
   "outputs": [],
   "source": [
    "tables = pd.read_html(\"https://pl.wikipedia.org/wiki/Wojew%C3%B3dztwo\")"
   ]
  },
  {
   "cell_type": "markdown",
   "metadata": {},
   "source": [
    "Możemy podglądnąć i zobaczyć iż `tables` to lista tabel, którą pandas odnalazł na stronie. Elementy listy możemy wydobyć korzystając ze składni: `nazwalisty[index]`, w pythonie indeksujemy od `0`."
   ]
  },
  {
   "cell_type": "code",
   "execution_count": null,
   "metadata": {},
   "outputs": [],
   "source": [
    "type(tables)"
   ]
  },
  {
   "cell_type": "code",
   "execution_count": null,
   "metadata": {},
   "outputs": [],
   "source": [
    "len(tables) # Sprawdźmy ilość tabel (długośc listy tables)"
   ]
  },
  {
   "cell_type": "code",
   "execution_count": null,
   "metadata": {},
   "outputs": [],
   "source": [
    "tables[0] # Podgląd pierwszej tabeli, pamiętajcie indeksujemy od 0!"
   ]
  },
  {
   "cell_type": "markdown",
   "metadata": {},
   "source": [
    "Kolejną ciekawą biblioteką w pythonie jest `seaborn`, pozwala tworzyć piękne wykresy."
   ]
  },
  {
   "cell_type": "code",
   "execution_count": null,
   "metadata": {},
   "outputs": [],
   "source": [
    "!pip install seaborn"
   ]
  },
  {
   "cell_type": "code",
   "execution_count": null,
   "metadata": {},
   "outputs": [],
   "source": [
    "import seaborn as sns"
   ]
  },
  {
   "cell_type": "code",
   "execution_count": null,
   "metadata": {},
   "outputs": [],
   "source": [
    "# Pobranie znanego zbioru danych\n",
    "df = sns.load_dataset(\"iris\")"
   ]
  },
  {
   "cell_type": "code",
   "execution_count": null,
   "metadata": {},
   "outputs": [],
   "source": [
    "df"
   ]
  },
  {
   "cell_type": "code",
   "execution_count": null,
   "metadata": {},
   "outputs": [],
   "source": [
    "# Narysowanie wykresów dla wszystkich zmiennych, kolorując je względem `hue`\n",
    "sns.pairplot(df, hue=\"species\") "
   ]
  },
  {
   "cell_type": "code",
   "execution_count": null,
   "metadata": {},
   "outputs": [],
   "source": [
    "# Wykres pudełkowy\n",
    "sns.boxplot(data=df, x=\"species\", y=\"sepal_length\")"
   ]
  },
  {
   "cell_type": "markdown",
   "metadata": {},
   "source": [
    "I taka ciekawostka na koniec dla tych którzy piszą w LaTeX, python pozwala generować kod w LaTeX dla zadanych definicji funkcji w Pythonie:"
   ]
  },
  {
   "cell_type": "code",
   "execution_count": null,
   "metadata": {},
   "outputs": [],
   "source": [
    "!pip install latexify-py"
   ]
  },
  {
   "cell_type": "code",
   "execution_count": null,
   "metadata": {},
   "outputs": [],
   "source": [
    "import math\n",
    "import latexify"
   ]
  },
  {
   "cell_type": "code",
   "execution_count": null,
   "metadata": {},
   "outputs": [],
   "source": [
    "@latexify.with_latex\n",
    "def solve(a, b, c):\n",
    "  return (-b + math.sqrt(b**2 - 4*a*c)) / (2*a)"
   ]
  },
  {
   "cell_type": "code",
   "execution_count": null,
   "metadata": {},
   "outputs": [],
   "source": [
    "print(solve)"
   ]
  },
  {
   "cell_type": "code",
   "execution_count": null,
   "metadata": {},
   "outputs": [],
   "source": [
    "solve"
   ]
  },
  {
   "cell_type": "code",
   "execution_count": null,
   "metadata": {},
   "outputs": [],
   "source": [
    "# Elif or nested else-if are unrolled.\n",
    "@latexify.with_latex\n",
    "def fib(x):\n",
    "  if x == 0:\n",
    "    return 1\n",
    "  elif x == 1:\n",
    "    return 1\n",
    "  else:\n",
    "    return fib(x-1) + fib(x-2)\n",
    "\n",
    "fib"
   ]
  }
 ],
 "metadata": {
  "kernelspec": {
   "display_name": "Python 3 (ipykernel)",
   "language": "python",
   "name": "python3"
  },
  "language_info": {
   "codemirror_mode": {
    "name": "ipython",
    "version": 3
   },
   "file_extension": ".py",
   "mimetype": "text/x-python",
   "name": "python",
   "nbconvert_exporter": "python",
   "pygments_lexer": "ipython3",
   "version": "3.9.10"
  },
  "vscode": {
   "interpreter": {
    "hash": "cceb67d39855d3ed8fe3c5fa440235ad38281d02ebba667f8a50873580728db3"
   }
  }
 },
 "nbformat": 4,
 "nbformat_minor": 4
}
