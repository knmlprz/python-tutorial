{
 "cells": [
  {
   "cell_type": "markdown",
   "metadata": {},
   "source": [
    "# Praktyczny wstęp do języka Python\n",
    "Najlepszym sposobem, żeby się czegoś nauczyć jest po prostu spróbwać z jego pomocą rozwiązać jakiś problem. Oczywiście ten problem nie może być zbyt trudny - to dopiero początek. Dlatego wybrałem dla was coś prostego (nie kalkulator!) : Grę w zgadywanie liczby. Zanim jednak zaczniemy ją programować musimy zdefiniować jakie są zasady naszej gry:\n",
    "\n",
    "1. Komputer losuje liczbę $n$ z przedziału od 1 do $N$, gdzie $N \\in \\mathbb{N}$.\n",
    "2. Człowiek wybiera liczbą $k$, komputer odpowiada czy liczba $k$ mniejsza, czy większa od $n$.\n",
    "3. Jeżeli $n=k$ wygrywa człowiek.\n",
    "4. Człowiek może wykonać maksymalnie $M$ prób, po przekroczeniu tego limitu wygrywa komputer.\n",
    "\n",
    "Znając już zasady możemy wziąć się za programowanie!"
   ]
  },
  {
   "cell_type": "markdown",
   "metadata": {},
   "source": [
    "# Rozkładnie problemów na mniejsze\n",
    "\n",
    "Nawet doświadczony programista nie potrafi rozwiązać dużego problemu bez rozłożenia go na mniejsze podproblemy, dlatego zaczniemy przeanalizowania każdej z tych zasad jako osobnego problemu, który musimy rozwiązać i na koniec połączymy je w całość. \n",
    "\n",
    "## Zasada pierwsza: liczby i losowanie liczb całkowitych\n",
    "\n",
    "Komputer losuje liczbę $n$ z przedziału od 1 do $N$, gdzie $N \\in \\mathbb{N}$. Brzmi prosto? I w Pythonie jest to bardzo proste. Zaczniemy od tego jak zapisać liczby w Pythonie. Python posiada posiada dwa rodzaje liczb:"
   ]
  },
  {
   "cell_type": "code",
   "execution_count": 27,
   "metadata": {},
   "outputs": [],
   "source": [
    "i = 1   # Tak przypisujemy liczbę całkowitą\n",
    "j = 1.0 # A tak liczbę zmiennoprzecinkową"
   ]
  },
  {
   "cell_type": "markdown",
   "metadata": {},
   "source": [
    "Jupyter pozwala nam podglądnąć czym te liczby są:"
   ]
  },
  {
   "cell_type": "code",
   "execution_count": 28,
   "metadata": {},
   "outputs": [
    {
     "data": {
      "text/plain": [
       "1"
      ]
     },
     "execution_count": 28,
     "metadata": {},
     "output_type": "execute_result"
    }
   ],
   "source": [
    "i"
   ]
  },
  {
   "cell_type": "code",
   "execution_count": 29,
   "metadata": {},
   "outputs": [
    {
     "data": {
      "text/plain": [
       "1.0"
      ]
     },
     "execution_count": 29,
     "metadata": {},
     "output_type": "execute_result"
    }
   ],
   "source": [
    "j"
   ]
  },
  {
   "cell_type": "markdown",
   "metadata": {},
   "source": [
    "Wykorzystam teraz coś nowego, a mianowicie funkcję `print`, wypisuje ona wszystkie swoje argumenty."
   ]
  },
  {
   "cell_type": "code",
   "execution_count": 16,
   "metadata": {},
   "outputs": [
    {
     "name": "stdout",
     "output_type": "stream",
     "text": [
      "1\n"
     ]
    }
   ],
   "source": [
    "print(i)"
   ]
  },
  {
   "cell_type": "code",
   "execution_count": 31,
   "metadata": {},
   "outputs": [
    {
     "name": "stdout",
     "output_type": "stream",
     "text": [
      "1 1.0\n"
     ]
    }
   ],
   "source": [
    "print(i, j) # Jeżeli podamy więcej niż 1 argument, pozostałe będą oddzielone spacją."
   ]
  },
  {
   "cell_type": "code",
   "execution_count": 44,
   "metadata": {},
   "outputs": [
    {
     "name": "stdout",
     "output_type": "stream",
     "text": [
      "i + 1 = 2\n",
      "i - 1 = 0\n",
      "i * 2 = 1\n",
      "i / 2 = 1.0\n",
      "i <= 2 = True\n"
     ]
    }
   ],
   "source": [
    "# Przykłady działań na liczbach\n",
    "\n",
    "print(\"i + 1 =\", i + 1) # Dodawanie liczb\n",
    "print(\"i - 1 =\", i - 1) # Odejmowanie liczb\n",
    "print(\"i * 2 =\", i * 1) # Mnożenie liczb\n",
    "print(\"i / 2 =\", i / 1) # Dzielenie liczb\n",
    "print(\"i <= 2 =\", i <= 1) # Porównywanie liczb"
   ]
  },
  {
   "cell_type": "markdown",
   "metadata": {},
   "source": [
    "Wiemy już jak utworzyć zmienne. Zatem jak wylosować liczbę $n$ z przedziału od $1$ do $N$? Python ma sporą bibliotekę standardową i ją wykorzystamy do tego zadania, a konkretniej moduł `random`."
   ]
  },
  {
   "cell_type": "code",
   "execution_count": 32,
   "metadata": {},
   "outputs": [],
   "source": [
    "import random"
   ]
  },
  {
   "cell_type": "code",
   "execution_count": 35,
   "metadata": {},
   "outputs": [
    {
     "name": "stdout",
     "output_type": "stream",
     "text": [
      "Help on method randint in module random:\n",
      "\n",
      "randint(a, b) method of random.Random instance\n",
      "    Return random integer in range [a, b], including both end points.\n",
      "\n"
     ]
    }
   ],
   "source": [
    "help(random.randint) # Polecenie help(obiekt) wyświetla pomoc"
   ]
  },
  {
   "cell_type": "code",
   "execution_count": 37,
   "metadata": {},
   "outputs": [
    {
     "data": {
      "text/plain": [
       "5"
      ]
     },
     "execution_count": 37,
     "metadata": {},
     "output_type": "execute_result"
    }
   ],
   "source": [
    "random.randint(0, 5)"
   ]
  },
  {
   "cell_type": "markdown",
   "metadata": {},
   "source": [
    "A gdybyśmy mieli wylosować nasze $n$ wyglądałoby to tak:"
   ]
  },
  {
   "cell_type": "code",
   "execution_count": 45,
   "metadata": {},
   "outputs": [],
   "source": [
    "# Utwórzymy zmienną N reprezentującą maksymalną liczbę możliwą do wylosowania\n",
    "N = 100 \n",
    "n = random.randint(1, N) # Losujemy niewiadomą"
   ]
  },
  {
   "cell_type": "markdown",
   "metadata": {},
   "source": [
    "## Zasada druga i trzecia: przekazywanie informacji, konwersja typów i porównywanie zmiennych\n",
    "Musimy powiedzieć naszemu pogramowi, jaką liczbę wybieramy. Do tego wykorzsytamy fukcję `input`"
   ]
  },
  {
   "cell_type": "code",
   "execution_count": 46,
   "metadata": {},
   "outputs": [
    {
     "name": "stdout",
     "output_type": "stream",
     "text": [
      "Help on method raw_input in module ipykernel.kernelbase:\n",
      "\n",
      "raw_input(prompt='') method of ipykernel.ipkernel.IPythonKernel instance\n",
      "    Forward raw_input to frontends\n",
      "    \n",
      "    Raises\n",
      "    ------\n",
      "    StdinNotImplementedError if active frontend doesn't support stdin.\n",
      "\n"
     ]
    }
   ],
   "source": [
    "help(input)"
   ]
  },
  {
   "cell_type": "markdown",
   "metadata": {},
   "source": [
    "Funkcja za argument przyjmuje tekst, który nam wyświetli. Obok tego tekstu pojawi się kursor. Funkcja `input` zwróci wpisaną tam wartość. Na przykład:"
   ]
  },
  {
   "cell_type": "code",
   "execution_count": 51,
   "metadata": {},
   "outputs": [
    {
     "data": {
      "text/plain": [
       "'69'"
      ]
     },
     "execution_count": 51,
     "metadata": {},
     "output_type": "execute_result"
    }
   ],
   "source": [
    "input(\"Cześć, jaka jest twoja ulubiona liczba?\")"
   ]
  },
  {
   "cell_type": "markdown",
   "metadata": {},
   "source": [
    "Tutaj pojawia się problem, ponieważ pojawiły się tu `'`, co oznacza iż python zwrócił nam ciąg znaków, a nie liczbę. Do przekonwertowania ciągu znaków do liczby można wykorzystać funkcję `int`:"
   ]
  },
  {
   "cell_type": "code",
   "execution_count": 52,
   "metadata": {},
   "outputs": [
    {
     "data": {
      "text/plain": [
       "123"
      ]
     },
     "execution_count": 52,
     "metadata": {},
     "output_type": "execute_result"
    }
   ],
   "source": [
    "int(\"123\")"
   ]
  },
  {
   "cell_type": "markdown",
   "metadata": {},
   "source": [
    "Mamy już wszystko, aby poprosić użtkownika o wpisanie liczby:"
   ]
  },
  {
   "cell_type": "code",
   "execution_count": 53,
   "metadata": {},
   "outputs": [],
   "source": [
    "k = int(input(\"Podaj liczbę: \"))"
   ]
  },
  {
   "cell_type": "markdown",
   "metadata": {},
   "source": [
    "Ok, teraz tylko komputer musi odpowiedzieć. Czy wpisana przez nas liczba $k$ jest większa czy mniejsza od $n$. Wykorzystamy do tego operator porównania: `if`. Jego składnia jest następująca. Jeżeli podany warunek jest `True` wykona się każda 'wcięta' linia kodu."
   ]
  },
  {
   "cell_type": "code",
   "execution_count": 59,
   "metadata": {},
   "outputs": [
    {
     "name": "stdout",
     "output_type": "stream",
     "text": [
      "Warunek jest prawdziwy.\n"
     ]
    }
   ],
   "source": [
    "warunek = True\n",
    "\n",
    "if warunek:\n",
    "    print(\"Warunek jest prawdziwy.\")\n",
    "else: \n",
    "    print(\"Warunek nie jest prawdziwy\")"
   ]
  },
  {
   "cell_type": "markdown",
   "metadata": {},
   "source": [
    "Nasz kod porównujący liczbę mógłby wyglądać następująco. `elif` pozwala nam zapisać `else if`."
   ]
  },
  {
   "cell_type": "code",
   "execution_count": 58,
   "metadata": {},
   "outputs": [
    {
     "name": "stdout",
     "output_type": "stream",
     "text": [
      "(Komputer): Moja liczba jest większa.\n"
     ]
    }
   ],
   "source": [
    "if k < n:\n",
    "    print(\"(Komputer): Moja liczba jest większa.\")\n",
    "elif k > n: \n",
    "    print(\"(Komputer): Moja liczba jest mniejsza.\")\n",
    "else:\n",
    "    print(\"(Komputer): Wygrałeś! Moja liczba to:\", n)"
   ]
  },
  {
   "cell_type": "markdown",
   "metadata": {},
   "source": [
    "## Zasada 5: koniec gry\n",
    "\n",
    "Jak dotąd zagraliśmy w nasą grę wyłącznie raz. Gdybyśmy tak ją pozostawili (Komputer) nie miałby szans wygrać. Musimy zatem pozwolić zagrać w grę wielokrotnie. A jeżeli mamy coś wykonać wielokrotnie, pętle są najlepszym rozwiązaniem. Wykorzystamy pętlę `while`. "
   ]
  },
  {
   "cell_type": "code",
   "execution_count": 68,
   "metadata": {},
   "outputs": [
    {
     "name": "stdout",
     "output_type": "stream",
     "text": [
      "0\n",
      "1\n",
      "2\n",
      "3\n",
      "4\n"
     ]
    }
   ],
   "source": [
    "i = 0\n",
    "while i < 5:\n",
    "    print(i)\n",
    "    i += 1"
   ]
  },
  {
   "cell_type": "markdown",
   "metadata": {},
   "source": [
    "Będziemy potrzebować zmiennej ile prób już wykonaliśmy $m$ oraz ile prób możemy maksymalnie wykonac $M$. A także dodać kod do pętli `while`, który uruchomi się po tym jak przekroczymy wartość (`else`) i poinformuje że przekroczyliśmy maksymalną liczbę prób. "
   ]
  },
  {
   "cell_type": "code",
   "execution_count": 76,
   "metadata": {},
   "outputs": [
    {
     "name": "stdout",
     "output_type": "stream",
     "text": [
      "(Ja)\t\tWybieram: 1\n",
      "(Komputer)\tMoja liczba jest większa.\n",
      "(Ja)\t\tWybieram: 11\n",
      "(Komputer)\tMoja liczba jest większa.\n",
      "(Ja)\t\tWybieram: 1\n",
      "(Komputer)\tMoja liczba jest większa.\n",
      "(Ja)\t\tWybieram: 1\n",
      "(Komputer)\tMoja liczba jest większa.\n",
      "(Ja)\t\tWybieram: 1\n",
      "(Komputer)\tMoja liczba jest większa.\n",
      "(Ja)\t\tWybieram: 1\n",
      "(Komputer)\tMoja liczba jest większa.\n",
      "(Ja)\t\tWybieram: 1\n",
      "(Komputer)\tMoja liczba jest większa.\n",
      "(Ja)\t\tWybieram: 1\n",
      "(Komputer)\tMoja liczba jest większa.\n",
      "(Ja)\t\tWybieram: 1\n",
      "(Komputer)\tMoja liczba jest większa.\n",
      "(Ja)\t\tWybieram: 1\n",
      "(Komputer)\tMoja liczba jest większa.\n",
      "(Ja)\t\tWybieram: 1\n",
      "(Komputer)\tMoja liczba jest większa.\n",
      "(Komputer)\tPrzekroczyłeś maksymalną liczbę prób! Wygrałem!!\n"
     ]
    }
   ],
   "source": [
    "N = 100 # Maksymalna możliwa liczba do wylosowania\n",
    "n = random.randint(1, N) # Losujemy niewiadomą\n",
    "\n",
    "M = 10 # Maksymalna liczba prób\n",
    "m = 0  # Na początku nie nie wykonywaliśmy żanego ruchu\n",
    "\n",
    "while m <= M:\n",
    "    m += 1 # Dodajemy kolejną próbę\n",
    "\n",
    "    k = int(input(\"Podaj liczbę: \"))\n",
    "    print(\"(Ja)\\t\\tWybieram:\", k)\n",
    "    \n",
    "    if k < n:\n",
    "        print(\"(Komputer)\\tMoja liczba jest większa.\")\n",
    "    elif k > n: \n",
    "        print(\"(Komputer)\\tMoja liczba jest mniejsza.\")\n",
    "    else:\n",
    "        print(\"(Komputer)\\tWygrałeś! Moja liczba to:\", n)\n",
    "        break # Kończy pętlę\n",
    "else:\n",
    "    print(\"(Komputer)\\tPrzekroczyłeś maksymalną liczbę prób! Wygrałem!!\")"
   ]
  },
  {
   "cell_type": "code",
   "execution_count": null,
   "metadata": {},
   "outputs": [],
   "source": []
  }
 ],
 "metadata": {
  "kernelspec": {
   "display_name": "Python 3.10.5 ('blog')",
   "language": "python",
   "name": "python3"
  },
  "language_info": {
   "codemirror_mode": {
    "name": "ipython",
    "version": 3
   },
   "file_extension": ".py",
   "mimetype": "text/x-python",
   "name": "python",
   "nbconvert_exporter": "python",
   "pygments_lexer": "ipython3",
   "version": "3.10.5"
  },
  "orig_nbformat": 4,
  "vscode": {
   "interpreter": {
    "hash": "c2026d21e99cfde71b0fea07f36ea434e8b1ef7b395e7efab94998bf6097e3c6"
   }
  }
 },
 "nbformat": 4,
 "nbformat_minor": 2
}
