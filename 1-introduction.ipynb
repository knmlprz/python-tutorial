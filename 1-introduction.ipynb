{
 "cells": [
  {
   "cell_type": "markdown",
   "metadata": {},
   "source": [
    "# Notka dla prowadzącego: jak prowadzić ten kurs.\n",
    "\n",
    "Kurs ten został przygotowany z myślą o ludziach, którzy nigdy nie programowali - pamiętaj o tym, ktoś kto ma jakiekolwiek doświadczenie będzie się nudził. \n",
    "\n",
    "*Środowisko pracy*: Google colab https://colab.research.google.com/\n",
    "\n",
    "Tekst wypisany poniżej to notatki dla Ciebie, chciałbym abyś przeprowadził ten kurs na żywo, udostępniając kursantom wyłącznie pierwszy akapit wraz z listą zasad w postaci notebooka w google colab."
   ]
  },
  {
   "cell_type": "markdown",
   "metadata": {},
   "source": [
    "# Praktyczny wstęp do języka Python\n",
    "Najlepszym sposobem, żeby się czegoś nauczyć jest po prostu spróbwać z jego pomocą rozwiązać jakiś problem. Oczywiście ten problem nie może być zbyt trudny - to dopiero początek. Dlatego wybrałem dla was coś prostego (nie kalkulator!) : Grę w zgadywanie liczby, jeżeli mieliście jakieś doświadczenia z programowaniem to prawdopodobnie wiecie jaka to gra. W skrócie: próbujemy zgadnąć liczbą jaką wylosował komputer, wiedząc czy wybrana przez nas liczba jest mniejsza/większa od wylosowanej. Zanim jednak zaczniemy ją programować musimy ściśle zdefiniować jakie są zasady naszej gry:\n",
    "\n",
    "1. (Losowanie) Komputer losuje liczbę $n$ z przedziału od 1 do $N$, gdzie $N \\in \\mathbb{N}$.\n",
    "2. (Wprowadzenie liczby) Człowiek wybiera liczbą $k$\n",
    "3. (Odpowiedź komputera) Komputer odpowiada czy liczba $k$ mniejsza, czy większa od $n$.\n",
    "4. (Warunek zwycięztwa) Jeżeli $n=k$ wygrywa człowiek.\n",
    "5. (Warunek przegranej) Człowiek może wykonać maksymalnie $M$ prób, po przekroczeniu tego limitu wygrywa komputer.\n",
    "\n",
    "Znając już zasady możemy wziąć się za programowanie!"
   ]
  },
  {
   "cell_type": "markdown",
   "metadata": {},
   "source": [
    "# Rozkładnie problemów na mniejsze\n",
    "\n",
    "Nawet doświadczony programista nie potrafi rozwiązać dużego problemu bez rozłożenia go na mniejsze podproblemy, dlatego zaczniemy przeanalizowania każdej z tych zasad jako osobnego problemu, który musimy rozwiązać i na koniec połączymy je w całość. \n",
    "\n",
    "## Zasada pierwsza: liczby i losowanie liczb całkowitych\n",
    "\n",
    "Komputer losuje liczbę $n$ z przedziału od 1 do $N$, gdzie $N \\in \\mathbb{N}$. Brzmi prosto? I w Pythonie jest to bardzo proste. Zaczniemy od tego jak zapisać liczby w Pythonie. Python posiada posiada dwa rodzaje liczb:"
   ]
  },
  {
   "cell_type": "code",
   "execution_count": null,
   "metadata": {},
   "outputs": [],
   "source": [
    "i = 1   # Tak przypisujemy liczbę całkowitą\n",
    "j = 1.0 # A tak liczbę zmiennoprzecinkową"
   ]
  },
  {
   "cell_type": "markdown",
   "metadata": {},
   "source": [
    "Jupyter pozwala nam podglądnąć czym te liczby są:"
   ]
  },
  {
   "cell_type": "code",
   "execution_count": null,
   "metadata": {},
   "outputs": [],
   "source": [
    "i"
   ]
  },
  {
   "cell_type": "code",
   "execution_count": null,
   "metadata": {},
   "outputs": [],
   "source": [
    "j"
   ]
  },
  {
   "cell_type": "markdown",
   "metadata": {},
   "source": [
    "Wykorzystam teraz coś nowego, a mianowicie funkcję `print`, wypisuje ona wszystkie swoje argumenty."
   ]
  },
  {
   "cell_type": "code",
   "execution_count": null,
   "metadata": {},
   "outputs": [],
   "source": [
    "print(i)"
   ]
  },
  {
   "cell_type": "code",
   "execution_count": null,
   "metadata": {},
   "outputs": [],
   "source": [
    "print(i, j) # Jeżeli podamy więcej niż 1 argument, pozostałe będą oddzielone spacją."
   ]
  },
  {
   "cell_type": "code",
   "execution_count": null,
   "metadata": {},
   "outputs": [],
   "source": [
    "# Przykłady działań na liczbach\n",
    "\n",
    "print(\"i + 1 =\", i + 1, i+2) # Dodawanie liczb\n",
    "print(\"i - 1 =\", i - 1) # Odejmowanie liczb\n",
    "print(\"i * 2 =\", i * 1) # Mnożenie liczb\n",
    "print(\"i / 2 =\", i / 1) # Dzielenie liczb\n",
    "print(\"i <= 2 =\", i <= 1) # Porównywanie liczb\n",
    "print(\"i ** 0 =\", i ** 0) # Potęgowanie liczb"
   ]
  },
  {
   "cell_type": "markdown",
   "metadata": {},
   "source": [
    "Wiemy już jak utworzyć zmienne. Zatem jak wylosować liczbę $n$ z przedziału od $1$ do $N$? Python ma sporą bibliotekę standardową i ją wykorzystamy do tego zadania, a konkretniej moduł `random`."
   ]
  },
  {
   "cell_type": "code",
   "execution_count": null,
   "metadata": {},
   "outputs": [],
   "source": [
    "import random"
   ]
  },
  {
   "cell_type": "markdown",
   "metadata": {},
   "source": [
    "**Moduły** w pythonie to pliki zawierające kod, którego można następnie używać w wielu programach. Zaimportowanie modułu daje nam dostęp do funkcji jakie posiada, poprzez składnię `[nazwa modułu].[nazwa funkcji/obiektu]`. Domyślnie dostęp mamy do bilbioteki standardowej Pythona, ale możemy także instalować własne moduły. Ale wracając do funkcji, to nie wyjaśniłem czym są ;) Już wyjaśniam.\n",
    "\n",
    "**Funkcje** w pythonie to fragmenty kodu, które uruchamiane są wyłącznie gdy je wywołamy. Funkcje wywołuje sie z pomocą `()`, w środku tych nawiasów można przekazać funkcjom zmienne. Przykład znajduje sie poniżej. Funkcji `help` przekazujemy inną funkcję! (ale nie wywołujemy jej)."
   ]
  },
  {
   "cell_type": "code",
   "execution_count": null,
   "metadata": {},
   "outputs": [],
   "source": [
    "help(random.randint) # Polecenie help(obiekt) wyświetla pomoc"
   ]
  },
  {
   "cell_type": "markdown",
   "metadata": {},
   "source": [
    "Tutaj mamy kolejny przykład. Funkcji `random.randint` przekazuję parametry 0 i 5 (mając wiele parametrów kolejne przekazujemy po przecinkach)."
   ]
  },
  {
   "cell_type": "code",
   "execution_count": null,
   "metadata": {},
   "outputs": [],
   "source": [
    "random.randint(0, 5)"
   ]
  },
  {
   "cell_type": "markdown",
   "metadata": {},
   "source": [
    "A gdybyśmy mieli wylosować nasze $n$ wyglądałoby to tak:"
   ]
  },
  {
   "cell_type": "code",
   "execution_count": null,
   "metadata": {},
   "outputs": [],
   "source": [
    "# Utwórzymy zmienną N reprezentującą maksymalną liczbę możliwą do wylosowania\n",
    "N = 100 \n",
    "n = random.randint(1, N) # Losujemy niewiadomą"
   ]
  },
  {
   "cell_type": "markdown",
   "metadata": {},
   "source": [
    "## Zasada druga i trzecia: przekazywanie informacji, konwersja typów i porównywanie zmiennych\n",
    "Musimy powiedzieć naszemu pogramowi, jaką liczbę wybieramy. Do tego wykorzsytamy fukcję `input`. Sprawdźmy jak działa funkcja `input`?"
   ]
  },
  {
   "cell_type": "code",
   "execution_count": null,
   "metadata": {},
   "outputs": [],
   "source": [
    "help(input)"
   ]
  },
  {
   "cell_type": "markdown",
   "metadata": {},
   "source": [
    "Funkcja za argument przyjmuje tekst, który nam wyświetli. Obok tego tekstu pojawi się kursor. Funkcja `input` zwróci wpisaną tam wartość. Na przykład:"
   ]
  },
  {
   "cell_type": "code",
   "execution_count": null,
   "metadata": {},
   "outputs": [],
   "source": [
    "input(\"Cześć, jaka jest twoja ulubiona liczba?\")"
   ]
  },
  {
   "cell_type": "markdown",
   "metadata": {},
   "source": [
    "Tutaj pojawia się problem, ponieważ pojawiły się tu `'`, co oznacza iż python zwrócił nam ciąg znaków, a nie liczbę. Do przekonwertowania ciągu znaków do liczby można wykorzystać funkcję `int`:"
   ]
  },
  {
   "cell_type": "code",
   "execution_count": null,
   "metadata": {},
   "outputs": [],
   "source": [
    "int(\"123\")"
   ]
  },
  {
   "cell_type": "markdown",
   "metadata": {},
   "source": [
    "Dygresja nt ciągów znaków w pythonie. Ciągi znaków można tworzyc na kilka sposobów:"
   ]
  },
  {
   "cell_type": "code",
   "execution_count": null,
   "metadata": {},
   "outputs": [],
   "source": [
    "hello = \"hello\"\n",
    "world = 'world'\n",
    "# f-string czyli formatted string, \n",
    "# możemy wstawiać zmienne do ciągów znaków, wstawiając je w {}\n",
    "hello_world = f\"{hello} {world}!\" \n",
    "\n",
    "# Wieloliniowy tekst:\n",
    "text = \"\"\"lorem\n",
    "ipsum\n",
    "XD\"\"\""
   ]
  },
  {
   "cell_type": "markdown",
   "metadata": {},
   "source": [
    "Mamy już wszystko, aby poprosić użtkownika o wpisanie liczby:"
   ]
  },
  {
   "cell_type": "code",
   "execution_count": null,
   "metadata": {},
   "outputs": [],
   "source": [
    "k = int(input(\"Podaj liczbę: \"))"
   ]
  },
  {
   "cell_type": "code",
   "execution_count": null,
   "metadata": {},
   "outputs": [],
   "source": [
    "k"
   ]
  },
  {
   "cell_type": "markdown",
   "metadata": {},
   "source": [
    "Ok, teraz tylko komputer musi odpowiedzieć. Czy wpisana przez nas liczba $k$ jest większa czy mniejsza od $n$. Wykorzystamy do tego operator porównania: `if`. Jego składnia jest następująca. Jeżeli podany warunek jest `True` wykona się każda 'wcięta' linia kodu. Ogólnie zasada jest taka, że bloki kodu (fragmenty wykonujące sie w pętlach/po instrukcjach warunkowych) wyróżnia się wcięciem."
   ]
  },
  {
   "cell_type": "code",
   "execution_count": null,
   "metadata": {},
   "outputs": [],
   "source": [
    "warunek = False\n",
    "\n",
    "if warunek:\n",
    "    print(\"Warunek jest prawdziwy.\")\n",
    "else: \n",
    "    print(\"Warunek nie jest prawdziwy\")"
   ]
  },
  {
   "cell_type": "markdown",
   "metadata": {},
   "source": [
    "Nasz kod porównujący liczbę mógłby wyglądać następująco. `elif` pozwala nam zapisać `else if`."
   ]
  },
  {
   "cell_type": "code",
   "execution_count": null,
   "metadata": {},
   "outputs": [],
   "source": [
    "if k < n:\n",
    "    print(\"(Komputer): Moja liczba jest większa.\")\n",
    "elif k > n: \n",
    "    print(\"(Komputer): Moja liczba jest mniejsza.\")\n",
    "else:\n",
    "    print(\"(Komputer): Wygrałeś! Moja liczba to:\", n)"
   ]
  },
  {
   "cell_type": "markdown",
   "metadata": {},
   "source": [
    "## Zasada 5: koniec gry\n",
    "\n",
    "Jak dotąd zagraliśmy w nasą grę wyłącznie raz. Gdybyśmy tak ją pozostawili (Komputer) nie miałby szans wygrać. Musimy zatem pozwolić zagrać w grę wielokrotnie. A jeżeli mamy coś wykonać wielokrotnie, pętle są najlepszym rozwiązaniem. Wykorzystamy pętlę `while`. "
   ]
  },
  {
   "cell_type": "code",
   "execution_count": null,
   "metadata": {},
   "outputs": [],
   "source": [
    "i = 0\n",
    "while i < 5:\n",
    "    print(i)\n",
    "    i += 1"
   ]
  },
  {
   "cell_type": "markdown",
   "metadata": {},
   "source": [
    "Będziemy potrzebować zmiennej ile prób już wykonaliśmy $m$ oraz ile prób możemy maksymalnie wykonac $M$. A także dodać kod do pętli `while`, który uruchomi się po tym jak przekroczymy wartość (`else`) i poinformuje że przekroczyliśmy maksymalną liczbę prób. "
   ]
  },
  {
   "cell_type": "code",
   "execution_count": null,
   "metadata": {},
   "outputs": [],
   "source": [
    "N = 100 # Maksymalna możliwa liczba do wylosowania\n",
    "n = random.randint(1, N) # Losujemy niewiadomą\n",
    "\n",
    "M = 10 # Maksymalna liczba prób\n",
    "m = 0  # Na początku nie nie wykonywaliśmy żanego ruchu\n",
    "\n",
    "while m < M:\n",
    "    m += 1 # Dodajemy kolejną próbę\n",
    "\n",
    "    k = int(input(\"Podaj liczbę: \"))\n",
    "    print(\"(Ja)\\t\\tWybieram:\", k)\n",
    "    \n",
    "    if k < n:\n",
    "        print(\"(Komputer)\\tMoja liczba jest większa.\")\n",
    "    elif k > n: \n",
    "        print(\"(Komputer)\\tMoja liczba jest mniejsza.\")\n",
    "    else:\n",
    "        print(\"(Komputer)\\tWygrałeś! Moja liczba to:\", n)\n",
    "        break # Kończy pętlę\n",
    "\n",
    "if m == M:\n",
    "    print(\"(Komputer)\\tPrzekroczyłeś maksymalną liczbę prób! Wygrałem!!\")"
   ]
  },
  {
   "cell_type": "markdown",
   "metadata": {},
   "source": [
    "# Zadanie domowe\n",
    "\n",
    "Grę tę da się rozwiązać tzn. mając pewną liczbę ruchów zawsze wygramy. Twoim zadaniem jest obliczyć jaka jest minimalna liczba ruchów potrzebna, aby zawsze wygrać tą grę?\n",
    "\n",
    "Podpowiedź:\n",
    "1. Liczba ta zleży od długości przedziału z którego losujemy liczbę\n",
    "2. Poczytaj o: Algorytm bisekcji"
   ]
  }
 ],
 "metadata": {
  "kernelspec": {
   "display_name": "Python 3.10.5 ('blog')",
   "language": "python",
   "name": "python3"
  },
  "language_info": {
   "codemirror_mode": {
    "name": "ipython",
    "version": 3
   },
   "file_extension": ".py",
   "mimetype": "text/x-python",
   "name": "python",
   "nbconvert_exporter": "python",
   "pygments_lexer": "ipython3",
   "version": "3.10.5"
  },
  "orig_nbformat": 4,
  "vscode": {
   "interpreter": {
    "hash": "c2026d21e99cfde71b0fea07f36ea434e8b1ef7b395e7efab94998bf6097e3c6"
   }
  }
 },
 "nbformat": 4,
 "nbformat_minor": 2
}
