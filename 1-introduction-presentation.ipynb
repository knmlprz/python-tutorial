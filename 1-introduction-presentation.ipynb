{
 "cells": [
  {
   "cell_type": "markdown",
   "id": "63b89cc9-9b4b-42d8-a608-5196b2fdbdbd",
   "metadata": {},
   "source": [
    "# Agenda spotkania\n",
    "\n",
    "1. Zapoznanie z praktycznym problemem - gra w zgadywanie\n",
    "\n",
    "    1.1 Demo gry\n",
    "3. Uruchomienie środowiska pracy\n",
    "4. Stworzenie gry w Pythonie\n"
   ]
  },
  {
   "cell_type": "markdown",
   "id": "c2acf613-6ae6-4044-ae0f-dd9a915398d2",
   "metadata": {},
   "source": [
    "# Zasady gry\n",
    "\n",
    "1. (Losowanie) Komputer losuje liczbę $n$ z przedziału od 1 do $N$, gdzie $N \\in \\mathbb{N}$.\n",
    "2. (Wprowadzenie liczby) Człowiek wybiera liczbę $k$\n",
    "3. (Odpowiedź komputera) Komputer odpowiada czy liczba $k$ mniejsza, czy większa od $n$.\n",
    "4. (Warunek zwycięstwa) Jeżeli $n=k$ wygrywa człowiek.\n",
    "5. (Warunek przegranej) Człowiek może wykonać maksymalnie $M$ prób, po przekroczeniu tego limitu wygrywa komputer."
   ]
  },
  {
   "cell_type": "markdown",
   "id": "6e1e0424-a182-45af-bcc8-9da6a70e529f",
   "metadata": {
    "jp-MarkdownHeadingCollapsed": true,
    "tags": []
   },
   "source": [
    "## Kod"
   ]
  },
  {
   "cell_type": "code",
   "execution_count": 2,
   "id": "5fa022c5-9145-4d8a-8a9c-953d8e4b4059",
   "metadata": {},
   "outputs": [],
   "source": [
    "def run_game():\n",
    "  import random\n",
    "\n",
    "  max_num = 100 # Maksymalna możliwa liczba do wylosowania\n",
    "  random_num = random.randint(1, max_num) # Losujemy niewiadomą\n",
    "\n",
    "  max_moves = 10 # Maksymalna liczba prób\n",
    "  moves = 0  # Na początku nie nie wykonywaliśmy żanego ruchu\n",
    "\n",
    "  while moves < max_moves:\n",
    "      moves += 1 # Dodajemy kolejną próbę\n",
    "\n",
    "      user_num = int(input(\"Podaj liczbę: \"))\n",
    "      print(\"(Ja)\\t\\tWybieram:\", user_num)\n",
    "      \n",
    "      if user_num < random_num:\n",
    "          print(\"(Komputer)\\tMoja liczba jest większa.\")\n",
    "      elif user_num > random_num: \n",
    "          print(\"(Komputer)\\tMoja liczba jest mniejsza.\")\n",
    "      else:\n",
    "          print(\"(Komputer)\\tWygrałeś! Moja liczba to:\", random_num)\n",
    "          break # Kończy pętlę\n",
    "\n",
    "  if moves == max_moves:\n",
    "      print(\"(Komputer)\\tPrzekroczyłeś maksymalną liczbę prób! Wygrałem!!\")"
   ]
  },
  {
   "cell_type": "markdown",
   "id": "9913249f-213f-4df1-9e93-db2aff304067",
   "metadata": {},
   "source": [
    "## Demo gry"
   ]
  },
  {
   "cell_type": "code",
   "execution_count": null,
   "id": "d8efbe25-cdac-420c-8adc-a49827796445",
   "metadata": {},
   "outputs": [],
   "source": [
    "run_game()"
   ]
  },
  {
   "cell_type": "code",
   "execution_count": null,
   "id": "6525cc9a-63e3-4cd6-a5c7-acd56b34d6d2",
   "metadata": {},
   "outputs": [],
   "source": []
  }
 ],
 "metadata": {
  "kernelspec": {
   "display_name": "Python 3 (ipykernel)",
   "language": "python",
   "name": "python3"
  },
  "language_info": {
   "codemirror_mode": {
    "name": "ipython",
    "version": 3
   },
   "file_extension": ".py",
   "mimetype": "text/x-python",
   "name": "python",
   "nbconvert_exporter": "python",
   "pygments_lexer": "ipython3",
   "version": "3.9.10"
  }
 },
 "nbformat": 4,
 "nbformat_minor": 5
}
