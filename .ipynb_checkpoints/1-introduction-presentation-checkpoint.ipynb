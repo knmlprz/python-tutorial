{
 "cells": [
  {
   "cell_type": "markdown",
   "id": "63b89cc9-9b4b-42d8-a608-5196b2fdbdbd",
   "metadata": {},
   "source": [
    "# Agenda spotkania\n",
    "\n",
    "1. Zapoznanie z praktycznym problemem - gra w zgadywanie\n",
    "\n",
    "    1.1 Demo gry\n",
    "3. Uruchomienie środowiska pracy\n",
    "4. Stworzenie gry w Pythonie\n"
   ]
  },
  {
   "cell_type": "markdown",
   "id": "c2acf613-6ae6-4044-ae0f-dd9a915398d2",
   "metadata": {},
   "source": [
    "# Zasady gry\n",
    "\n",
    "1. (Losowanie) Komputer losuje liczbę $n$ z przedziału od 1 do $N$, gdzie $N \\in \\mathbb{N}$.\n",
    "2. (Wprowadzenie liczby) Człowiek wybiera liczbę $k$\n",
    "3. (Odpowiedź komputera) Komputer odpowiada czy liczba $k$ mniejsza, czy większa od $n$.\n",
    "4. (Warunek zwycięstwa) Jeżeli $n=k$ wygrywa człowiek.\n",
    "5. (Warunek przegranej) Człowiek może wykonać maksymalnie $M$ prób, po przekroczeniu tego limitu wygrywa komputer."
   ]
  },
  {
   "cell_type": "markdown",
   "id": "6e1e0424-a182-45af-bcc8-9da6a70e529f",
   "metadata": {
    "jp-MarkdownHeadingCollapsed": true,
    "tags": []
   },
   "source": [
    "## Kod"
   ]
  },
  {
   "cell_type": "code",
   "execution_count": 1,
   "id": "5fa022c5-9145-4d8a-8a9c-953d8e4b4059",
   "metadata": {},
   "outputs": [],
   "source": [
    "def run_game():\n",
    "  import random\n",
    "\n",
    "  max_num = 100 # Maksymalna możliwa liczba do wylosowania\n",
    "  random_num = random.randint(1, max_num) # Losujemy niewiadomą\n",
    "\n",
    "  max_moves = 10 # Maksymalna liczba prób\n",
    "  moves = 0  # Na początku nie nie wykonywaliśmy żanego ruchu\n",
    "\n",
    "  while moves < max_moves:\n",
    "      moves += 1 # Dodajemy kolejną próbę\n",
    "\n",
    "      user_num = int(input(\"Podaj liczbę: \"))\n",
    "      print(\"(Ja)\\t\\tWybieram:\", user_num)\n",
    "      \n",
    "      if user_num < random_num:\n",
    "          print(\"(Komputer)\\tMoja liczba jest większa.\")\n",
    "      elif user_num > random_num: \n",
    "          print(\"(Komputer)\\tMoja liczba jest mniejsza.\")\n",
    "      else:\n",
    "          print(\"(Komputer)\\tWygrałeś! Moja liczba to:\", random_num)\n",
    "          break # Kończy pętlę\n",
    "\n",
    "  if moves == max_moves:\n",
    "      print(\"(Komputer)\\tPrzekroczyłeś maksymalną liczbę prób! Wygrałem!!\")"
   ]
  },
  {
   "cell_type": "markdown",
   "id": "9913249f-213f-4df1-9e93-db2aff304067",
   "metadata": {},
   "source": [
    "## Demo gry"
   ]
  },
  {
   "cell_type": "code",
   "execution_count": 2,
   "id": "d8efbe25-cdac-420c-8adc-a49827796445",
   "metadata": {},
   "outputs": [
    {
     "name": "stdin",
     "output_type": "stream",
     "text": [
      "Podaj liczbę:  10\n"
     ]
    },
    {
     "name": "stdout",
     "output_type": "stream",
     "text": [
      "(Ja)\t\tWybieram: 10\n",
      "(Komputer)\tMoja liczba jest większa.\n"
     ]
    },
    {
     "ename": "KeyboardInterrupt",
     "evalue": "Interrupted by user",
     "output_type": "error",
     "traceback": [
      "\u001b[0;31m---------------------------------------------------------------------------\u001b[0m",
      "\u001b[0;31mKeyboardInterrupt\u001b[0m                         Traceback (most recent call last)",
      "Input \u001b[0;32mIn [2]\u001b[0m, in \u001b[0;36m<cell line: 1>\u001b[0;34m()\u001b[0m\n\u001b[0;32m----> 1\u001b[0m \u001b[43mrun_game\u001b[49m\u001b[43m(\u001b[49m\u001b[43m)\u001b[49m\n",
      "Input \u001b[0;32mIn [1]\u001b[0m, in \u001b[0;36mrun_game\u001b[0;34m()\u001b[0m\n\u001b[1;32m     10\u001b[0m \u001b[38;5;28;01mwhile\u001b[39;00m moves \u001b[38;5;241m<\u001b[39m max_moves:\n\u001b[1;32m     11\u001b[0m     moves \u001b[38;5;241m+\u001b[39m\u001b[38;5;241m=\u001b[39m \u001b[38;5;241m1\u001b[39m \u001b[38;5;66;03m# Dodajemy kolejną próbę\u001b[39;00m\n\u001b[0;32m---> 13\u001b[0m     user_num \u001b[38;5;241m=\u001b[39m \u001b[38;5;28mint\u001b[39m(\u001b[38;5;28;43minput\u001b[39;49m\u001b[43m(\u001b[49m\u001b[38;5;124;43m\"\u001b[39;49m\u001b[38;5;124;43mPodaj liczbę: \u001b[39;49m\u001b[38;5;124;43m\"\u001b[39;49m\u001b[43m)\u001b[49m)\n\u001b[1;32m     14\u001b[0m     \u001b[38;5;28mprint\u001b[39m(\u001b[38;5;124m\"\u001b[39m\u001b[38;5;124m(Ja)\u001b[39m\u001b[38;5;130;01m\\t\u001b[39;00m\u001b[38;5;130;01m\\t\u001b[39;00m\u001b[38;5;124mWybieram:\u001b[39m\u001b[38;5;124m\"\u001b[39m, user_num)\n\u001b[1;32m     16\u001b[0m     \u001b[38;5;28;01mif\u001b[39;00m user_num \u001b[38;5;241m<\u001b[39m random_num:\n",
      "File \u001b[0;32m~/miniconda3/lib/python3.9/site-packages/ipykernel/kernelbase.py:1177\u001b[0m, in \u001b[0;36mKernel.raw_input\u001b[0;34m(self, prompt)\u001b[0m\n\u001b[1;32m   1173\u001b[0m \u001b[38;5;28;01mif\u001b[39;00m \u001b[38;5;129;01mnot\u001b[39;00m \u001b[38;5;28mself\u001b[39m\u001b[38;5;241m.\u001b[39m_allow_stdin:\n\u001b[1;32m   1174\u001b[0m     \u001b[38;5;28;01mraise\u001b[39;00m StdinNotImplementedError(\n\u001b[1;32m   1175\u001b[0m         \u001b[38;5;124m\"\u001b[39m\u001b[38;5;124mraw_input was called, but this frontend does not support input requests.\u001b[39m\u001b[38;5;124m\"\u001b[39m\n\u001b[1;32m   1176\u001b[0m     )\n\u001b[0;32m-> 1177\u001b[0m \u001b[38;5;28;01mreturn\u001b[39;00m \u001b[38;5;28;43mself\u001b[39;49m\u001b[38;5;241;43m.\u001b[39;49m\u001b[43m_input_request\u001b[49m\u001b[43m(\u001b[49m\n\u001b[1;32m   1178\u001b[0m \u001b[43m    \u001b[49m\u001b[38;5;28;43mstr\u001b[39;49m\u001b[43m(\u001b[49m\u001b[43mprompt\u001b[49m\u001b[43m)\u001b[49m\u001b[43m,\u001b[49m\n\u001b[1;32m   1179\u001b[0m \u001b[43m    \u001b[49m\u001b[38;5;28;43mself\u001b[39;49m\u001b[38;5;241;43m.\u001b[39;49m\u001b[43m_parent_ident\u001b[49m\u001b[43m[\u001b[49m\u001b[38;5;124;43m\"\u001b[39;49m\u001b[38;5;124;43mshell\u001b[39;49m\u001b[38;5;124;43m\"\u001b[39;49m\u001b[43m]\u001b[49m\u001b[43m,\u001b[49m\n\u001b[1;32m   1180\u001b[0m \u001b[43m    \u001b[49m\u001b[38;5;28;43mself\u001b[39;49m\u001b[38;5;241;43m.\u001b[39;49m\u001b[43mget_parent\u001b[49m\u001b[43m(\u001b[49m\u001b[38;5;124;43m\"\u001b[39;49m\u001b[38;5;124;43mshell\u001b[39;49m\u001b[38;5;124;43m\"\u001b[39;49m\u001b[43m)\u001b[49m\u001b[43m,\u001b[49m\n\u001b[1;32m   1181\u001b[0m \u001b[43m    \u001b[49m\u001b[43mpassword\u001b[49m\u001b[38;5;241;43m=\u001b[39;49m\u001b[38;5;28;43;01mFalse\u001b[39;49;00m\u001b[43m,\u001b[49m\n\u001b[1;32m   1182\u001b[0m \u001b[43m\u001b[49m\u001b[43m)\u001b[49m\n",
      "File \u001b[0;32m~/miniconda3/lib/python3.9/site-packages/ipykernel/kernelbase.py:1219\u001b[0m, in \u001b[0;36mKernel._input_request\u001b[0;34m(self, prompt, ident, parent, password)\u001b[0m\n\u001b[1;32m   1216\u001b[0m             \u001b[38;5;28;01mbreak\u001b[39;00m\n\u001b[1;32m   1217\u001b[0m \u001b[38;5;28;01mexcept\u001b[39;00m \u001b[38;5;167;01mKeyboardInterrupt\u001b[39;00m:\n\u001b[1;32m   1218\u001b[0m     \u001b[38;5;66;03m# re-raise KeyboardInterrupt, to truncate traceback\u001b[39;00m\n\u001b[0;32m-> 1219\u001b[0m     \u001b[38;5;28;01mraise\u001b[39;00m \u001b[38;5;167;01mKeyboardInterrupt\u001b[39;00m(\u001b[38;5;124m\"\u001b[39m\u001b[38;5;124mInterrupted by user\u001b[39m\u001b[38;5;124m\"\u001b[39m) \u001b[38;5;28;01mfrom\u001b[39;00m \u001b[38;5;28mNone\u001b[39m\n\u001b[1;32m   1220\u001b[0m \u001b[38;5;28;01mexcept\u001b[39;00m \u001b[38;5;167;01mException\u001b[39;00m:\n\u001b[1;32m   1221\u001b[0m     \u001b[38;5;28mself\u001b[39m\u001b[38;5;241m.\u001b[39mlog\u001b[38;5;241m.\u001b[39mwarning(\u001b[38;5;124m\"\u001b[39m\u001b[38;5;124mInvalid Message:\u001b[39m\u001b[38;5;124m\"\u001b[39m, exc_info\u001b[38;5;241m=\u001b[39m\u001b[38;5;28;01mTrue\u001b[39;00m)\n",
      "\u001b[0;31mKeyboardInterrupt\u001b[0m: Interrupted by user"
     ]
    }
   ],
   "source": [
    "run_game()"
   ]
  },
  {
   "cell_type": "code",
   "execution_count": null,
   "id": "6525cc9a-63e3-4cd6-a5c7-acd56b34d6d2",
   "metadata": {},
   "outputs": [],
   "source": [
    "1. "
   ]
  }
 ],
 "metadata": {
  "kernelspec": {
   "display_name": "Python 3 (ipykernel)",
   "language": "python",
   "name": "python3"
  },
  "language_info": {
   "codemirror_mode": {
    "name": "ipython",
    "version": 3
   },
   "file_extension": ".py",
   "mimetype": "text/x-python",
   "name": "python",
   "nbconvert_exporter": "python",
   "pygments_lexer": "ipython3",
   "version": "3.9.10"
  }
 },
 "nbformat": 4,
 "nbformat_minor": 5
}
