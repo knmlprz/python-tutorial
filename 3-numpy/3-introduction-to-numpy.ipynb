{
 "cells": [
  {
   "cell_type": "code",
   "execution_count": null,
   "metadata": {},
   "outputs": [],
   "source": [
    "import numpy as np\n",
    "import matplotlib.pyplot as plt\n",
    "from IPython import display"
   ]
  },
  {
   "cell_type": "markdown",
   "metadata": {},
   "source": [
    "# Czym jest numpy?\n",
    "\n",
    "Jest to oprogramowanie pozwalające na wydajne prowadzenie obliczeń w języku Python.\n",
    "\n",
    "# Dlaczego Numpy?\n",
    "\n",
    "A chociażby dlatego, iż jest podstawą wielu narzędzi korzystających z Pythona. Kilka przykładów:\n",
    "- Machine learning (sklearn, mlxtend)\n",
    "- Deep learning (pytorch, keras)\n",
    "- Autograd (Jax, Pytorch Autograd)\n",
    "- Probabilistic programming (PyMC3, Pyro, Pytorch Probability)\n",
    "- Mathematical expression eval (Aesara)\n",
    "- Astronomy (astropy)\n",
    "- Signal processing (Scipy, PyWavelets)\n",
    "\n",
    "TL;DR Jeżeli coś musicie zrobić, to prawdopodobnie, ktoś robił już coś podobnego w numpy.\n",
    "\n",
    "# Do czego wykorzystany został NumPy\n",
    "\n",
    "1. Wykonanie pierwszego zdjęcia czarnej dziury. Numpy był wykorzystywany przez bilbioteki służące do przetwarzania i rekonstrukcji obrazów, które posłużyły do odtworzenia i odszumienia obrazu czarnej dziury. Link: https://numpy.org/case-studies/blackhole-image/"
   ]
  },
  {
   "cell_type": "code",
   "execution_count": null,
   "metadata": {},
   "outputs": [],
   "source": [
    "display.Image(\"https://www.nasa.gov/sites/default/files/thumbnails/image/blackhole.png\")"
   ]
  },
  {
   "cell_type": "markdown",
   "metadata": {},
   "source": [
    "2. Do wykrywania fal grawitacyjnych z pomocą LIGO. Link: https://numpy.org/case-studies/gw-discov/"
   ]
  },
  {
   "cell_type": "code",
   "execution_count": null,
   "metadata": {},
   "outputs": [],
   "source": [
    "display.YouTubeVideo(\"zLAmF0H-FTM\", width=600)"
   ]
  },
  {
   "cell_type": "markdown",
   "metadata": {},
   "source": [
    "# Dlaczego nie używać pythonowych list?"
   ]
  },
  {
   "cell_type": "code",
   "execution_count": null,
   "metadata": {},
   "outputs": [],
   "source": [
    "import timeit"
   ]
  },
  {
   "cell_type": "code",
   "execution_count": null,
   "metadata": {},
   "outputs": [],
   "source": [
    "t1 = timeit.timeit('sum(list(range(10_000)))', number=10000)\n",
    "t1"
   ]
  },
  {
   "cell_type": "code",
   "execution_count": null,
   "metadata": {},
   "outputs": [],
   "source": [
    "t2 = timeit.timeit('np.sum(np.arange(10_000))', number=10000, setup=\"import numpy as np\")\n",
    "t2 "
   ]
  },
  {
   "cell_type": "code",
   "execution_count": null,
   "metadata": {},
   "outputs": [],
   "source": [
    "print(int(t1 / t2), \"-krotne przyspieszenie!\")"
   ]
  },
  {
   "cell_type": "markdown",
   "metadata": {},
   "source": [
    "# Wektory\n",
    "\n",
    "Pamiętacie czym były wektory? Jeżeli nie to, przygotowałem tutaj szybki wstęp. \n",
    "\n",
    "Wektory to obiekty matematyczne opisywane za pomocą **modułu**, **kierunku** oraz **zwrotu**. \n",
    "\n",
    "Przykład na dwu wymiarowym wektorze:\n",
    "\n",
    "<img src=\"https://upload.wikimedia.org/wikipedia/commons/thumb/c/c1/Wektor_by_Zureks.svg/1200px-Wektor_by_Zureks.svg.png\" width=\"300\" height=\"300\" />\n",
    "\n",
    "W NumPy wektory deklaruje się w następujący sposób:"
   ]
  },
  {
   "cell_type": "code",
   "execution_count": null,
   "metadata": {},
   "outputs": [],
   "source": [
    "vec = np.array([1,2,3])\n",
    "vec"
   ]
  },
  {
   "cell_type": "markdown",
   "metadata": {},
   "source": [
    "Obiekt typu array ma wiele właściwości:\n",
    "- ndim - liczba wymiarów macierzy/wektora\n",
    "- shape - wymiary macierzy/wektora\n",
    "- size - liczba elementów macierzy wektora\n",
    "- dtype - typ obiektów przechowywanych w macierzy/wektorze"
   ]
  },
  {
   "cell_type": "code",
   "execution_count": null,
   "metadata": {},
   "outputs": [],
   "source": [
    "vec.ndim"
   ]
  },
  {
   "cell_type": "code",
   "execution_count": null,
   "metadata": {},
   "outputs": [],
   "source": [
    "vec.shape"
   ]
  },
  {
   "cell_type": "code",
   "execution_count": null,
   "metadata": {},
   "outputs": [],
   "source": [
    "vec.size"
   ]
  },
  {
   "cell_type": "code",
   "execution_count": null,
   "metadata": {},
   "outputs": [],
   "source": [
    "vec.dtype"
   ]
  },
  {
   "cell_type": "markdown",
   "metadata": {},
   "source": [
    "Wektory możemy deklarować też w ten sposób:"
   ]
  },
  {
   "cell_type": "code",
   "execution_count": null,
   "metadata": {},
   "outputs": [],
   "source": [
    "vec_col = np.array([[1],[2],[3]])\n",
    "vec_col"
   ]
  },
  {
   "cell_type": "markdown",
   "metadata": {},
   "source": [
    "można też zrobić to o wiele prościej, zmieniając wymiar wektora, poleceniem `reshape`. Gdzie `-1` oznacza automatyczy dobór tego wymiaru. Tutaj: chcemy mieć jedną kolumnę i automatycznie dobrać ilość wierszy."
   ]
  },
  {
   "cell_type": "code",
   "execution_count": null,
   "metadata": {},
   "outputs": [],
   "source": [
    "vec_col2 = np.array([1,2,3]).reshape(-1, 1)\n",
    "vec_col2"
   ]
  },
  {
   "cell_type": "markdown",
   "metadata": {},
   "source": [
    "## Podstawowe operacje na wektorach\n",
    "\n",
    "Jak zapewne pamiętacie z zajęć, na wektorach można wykonywać pewne operacje. Przypomnę wam szybko jak się je wykonuje, na wektorze `vec`:"
   ]
  },
  {
   "cell_type": "code",
   "execution_count": null,
   "metadata": {},
   "outputs": [],
   "source": [
    "vec"
   ]
  },
  {
   "cell_type": "code",
   "execution_count": null,
   "metadata": {},
   "outputs": [],
   "source": [
    "4 * vec # Mnożenie liczby przez wektor"
   ]
  },
  {
   "cell_type": "code",
   "execution_count": null,
   "metadata": {},
   "outputs": [],
   "source": [
    "4 + vec # Dodawanie liczby do wektora"
   ]
  },
  {
   "cell_type": "code",
   "execution_count": null,
   "metadata": {},
   "outputs": [],
   "source": [
    "4 - vec # Odejmnowanie liczby od wektora"
   ]
  },
  {
   "cell_type": "code",
   "execution_count": null,
   "metadata": {},
   "outputs": [],
   "source": [
    "# Obliczenie modułu wektora\n",
    "np.linalg.norm(vec)"
   ]
  },
  {
   "cell_type": "code",
   "execution_count": null,
   "metadata": {},
   "outputs": [],
   "source": [
    "# Iloczyn skalarny wektorów\n",
    "vec.dot(vec)"
   ]
  },
  {
   "cell_type": "code",
   "execution_count": null,
   "metadata": {},
   "outputs": [],
   "source": [
    "# Obliczenie modułu wektora\n",
    "np.sqrt(vec.dot(vec))"
   ]
  },
  {
   "cell_type": "code",
   "execution_count": null,
   "metadata": {},
   "outputs": [],
   "source": [
    "# Iloczyn wektorowy\n",
    "np.cross(vec, vec)"
   ]
  },
  {
   "cell_type": "code",
   "execution_count": null,
   "metadata": {},
   "outputs": [],
   "source": [
    "# Wybranie jednego elementu wektora\n",
    "vec[0], vec[1]"
   ]
  },
  {
   "cell_type": "code",
   "execution_count": null,
   "metadata": {},
   "outputs": [],
   "source": [
    "# Wybranie wszystkich elementów wektora od i-tego\n",
    "vec[1:]"
   ]
  },
  {
   "cell_type": "code",
   "execution_count": null,
   "metadata": {},
   "outputs": [],
   "source": [
    "# Wybranie wszystkich elementów wektora do j-tego, wyłącznie\n",
    "vec[:1]"
   ]
  },
  {
   "cell_type": "code",
   "execution_count": null,
   "metadata": {},
   "outputs": [],
   "source": [
    "# Wybranie zakresu elementów\n",
    "vec[1:2]"
   ]
  },
  {
   "cell_type": "code",
   "execution_count": null,
   "metadata": {},
   "outputs": [],
   "source": [
    "# Wybranie elementów dla których wynik wyrażenia jest prawdziwy (boolean mask)\n",
    "vec[vec == 1]"
   ]
  },
  {
   "cell_type": "code",
   "execution_count": null,
   "metadata": {},
   "outputs": [],
   "source": [
    "np.linspace(0, 2, 9) # Generowanie wektora o długości 9, liczb od [0, 2]"
   ]
  },
  {
   "cell_type": "markdown",
   "metadata": {},
   "source": [
    "# Zadanie 1\n",
    "\n",
    "Utwórz nowy wektor `[4, 5, 6]` i nazwij go `wektor`. Oblicz jego moduł i zapisz go do zmiennej `mod_wektor`."
   ]
  },
  {
   "cell_type": "code",
   "execution_count": null,
   "metadata": {},
   "outputs": [],
   "source": [
    "# Tutaj przeprowadź obliczenia\n"
   ]
  },
  {
   "cell_type": "code",
   "execution_count": null,
   "metadata": {},
   "outputs": [],
   "source": [
    "# Wynik działania tej komórki wpisz w quiz\n",
    "np.round(mod_wektor, 2)"
   ]
  },
  {
   "cell_type": "markdown",
   "metadata": {},
   "source": [
    "# Zadanie 2\n",
    "\n",
    "Znajdź wektor prostopadły do wektorów [1, 0, 0] i [0, 1, 0]. Zapisz go do zmiennej `perp_vector`."
   ]
  },
  {
   "cell_type": "code",
   "execution_count": null,
   "metadata": {},
   "outputs": [],
   "source": [
    "# Tutaj przeprowadź obliczenia\n"
   ]
  },
  {
   "cell_type": "markdown",
   "metadata": {},
   "source": [
    "Podpowiedź:\n",
    "<spoiler>Wynikiem iloczynu wektorowego dwóch wektorów, jest nowy wektor, prostopadły do podanych.</spoiler>"
   ]
  },
  {
   "cell_type": "code",
   "execution_count": null,
   "metadata": {},
   "outputs": [],
   "source": [
    "# Ten wynik podaj w odpowiedzi\n",
    "perp_vector[2]/np.linalg.norm(perp_vector)"
   ]
  },
  {
   "cell_type": "markdown",
   "metadata": {},
   "source": [
    "# Wizualizacja wektorów z pomocą matplotlib"
   ]
  },
  {
   "cell_type": "code",
   "execution_count": null,
   "metadata": {},
   "outputs": [],
   "source": [
    "# Tworzę nową figurę\n",
    "fig = plt.figure()\n",
    "# Ustawiam widok 3d\n",
    "ax = plt.axes(projection=\"3d\")\n",
    "# Ustawiam ograniczenia na osiach, tak aby\n",
    "# wszytko było dobrze widoczne\n",
    "ax.set_xlim([0, 10])\n",
    "ax.set_ylim([0, 5])\n",
    "ax.set_zlim([0, 5])\n",
    "\n",
    "# Tworzę 3 wektory, A i B są prostopadłe. \n",
    "# C to nowy wektor, prostopadły to A i B\n",
    "A = np.array([0, 3, 0])\n",
    "B = np.array([0, 0, 3])\n",
    "C = np.cross(A, B)\n",
    "\n",
    "# Wektory muszę zacząć rysować od pewnego punktu\n",
    "# Ustawiam ten punkt na początek układu współrzędnych\n",
    "start = np.array([0, 0, 0])\n",
    "\n",
    "# Rysowanie wektorów\n",
    "# To samo co: \n",
    "# ax.quiver(start[0], start[1], start[2], (A-start)[0], (A-start)[1], (A-start)[2]) \n",
    "ax.quiver(*start, *(A-start), color=\"b\") \n",
    "ax.quiver(*start, *(B-start), color=\"g\")\n",
    "ax.quiver(*start, *(C-start), color=\"r\")\n",
    "#ax.view_init(5, 7)\n",
    "plt.show()"
   ]
  },
  {
   "cell_type": "markdown",
   "metadata": {},
   "source": [
    "# Podstawowe operacje na macierzach\n",
    "\n",
    "Są analogiczne jak te na wektorach."
   ]
  },
  {
   "cell_type": "code",
   "execution_count": null,
   "metadata": {},
   "outputs": [],
   "source": [
    "A = np.array([[1, 2], [2, -1]])\n",
    "B = np.array([8, 1])"
   ]
  },
  {
   "cell_type": "code",
   "execution_count": null,
   "metadata": {},
   "outputs": [],
   "source": [
    "A"
   ]
  },
  {
   "cell_type": "code",
   "execution_count": null,
   "metadata": {},
   "outputs": [],
   "source": [
    "B"
   ]
  },
  {
   "cell_type": "code",
   "execution_count": null,
   "metadata": {},
   "outputs": [],
   "source": [
    "A + 4"
   ]
  },
  {
   "cell_type": "code",
   "execution_count": null,
   "metadata": {},
   "outputs": [],
   "source": [
    "A - 4"
   ]
  },
  {
   "cell_type": "code",
   "execution_count": null,
   "metadata": {},
   "outputs": [],
   "source": [
    "# Wybranie i-tego wiersza macierzy\n",
    "A[0,:]"
   ]
  },
  {
   "cell_type": "code",
   "execution_count": null,
   "metadata": {},
   "outputs": [],
   "source": [
    "A[1,:]"
   ]
  },
  {
   "cell_type": "code",
   "execution_count": null,
   "metadata": {},
   "outputs": [],
   "source": [
    "# Wybranie i-tej kolumny macierzy\n",
    "A[:, 1]"
   ]
  },
  {
   "cell_type": "code",
   "execution_count": null,
   "metadata": {},
   "outputs": [],
   "source": [
    "# Macierz wielowymiarowa\n",
    "C = np.array([[[1, 1], [2, 2]], \n",
    "              [[3, 3], [4, 4]]])\n",
    "C.shape # Jej wymiar"
   ]
  },
  {
   "cell_type": "code",
   "execution_count": null,
   "metadata": {},
   "outputs": [],
   "source": [
    "# Indeksowanie się po takiej macierzy, \n",
    "C[0, 0, :]"
   ]
  },
  {
   "cell_type": "code",
   "execution_count": null,
   "metadata": {},
   "outputs": [],
   "source": [
    "C[0, 1, :]"
   ]
  },
  {
   "cell_type": "code",
   "execution_count": null,
   "metadata": {},
   "outputs": [],
   "source": [
    "C[0, 1, 0]"
   ]
  },
  {
   "cell_type": "code",
   "execution_count": null,
   "metadata": {},
   "outputs": [],
   "source": [
    "# Obliczenie wyznacznika macierzy\n",
    "np.linalg.det(A)"
   ]
  },
  {
   "cell_type": "code",
   "execution_count": null,
   "metadata": {},
   "outputs": [],
   "source": [
    "# Obliczenie odwrotności macierzy\n",
    "np.linalg.inv(A)"
   ]
  },
  {
   "cell_type": "code",
   "execution_count": null,
   "metadata": {},
   "outputs": [],
   "source": [
    "# Rozwiązanie układu równań\n",
    "x = np.matmul(np.linalg.inv(A), B)\n",
    "x"
   ]
  },
  {
   "cell_type": "code",
   "execution_count": null,
   "metadata": {},
   "outputs": [],
   "source": [
    "# Sprawdzenie rozwiązania\n",
    "np.allclose(np.matmul(A, x), B)"
   ]
  },
  {
   "cell_type": "markdown",
   "metadata": {},
   "source": [
    "# Zadanie 3\n",
    "\n",
    "Rozwiąż równanie. Wynik zapisz do zmiennej `x`:\n",
    "$$\n",
    "\\begin{vmatrix}\n",
    "1 & 0 & 2\\\\\n",
    "2 & 1 & 3\\\\\n",
    "3 & 2 & 1\n",
    "\\end{vmatrix}\n",
    "\\cdot \n",
    "\\begin{vmatrix}\n",
    "x_1\\\\\n",
    "x_2\\\\\n",
    "x_3\n",
    "\\end{vmatrix}\n",
    "=\n",
    "\\begin{vmatrix}\n",
    "1\\\\\n",
    "2\\\\\n",
    "3\n",
    "\\end{vmatrix}\n",
    "$$"
   ]
  },
  {
   "cell_type": "code",
   "execution_count": null,
   "metadata": {},
   "outputs": [],
   "source": [
    "# Tutaj przeprowadź obliczenia\n"
   ]
  },
  {
   "cell_type": "code",
   "execution_count": null,
   "metadata": {},
   "outputs": [],
   "source": [
    "np.round(x[1])"
   ]
  },
  {
   "cell_type": "code",
   "execution_count": null,
   "metadata": {},
   "outputs": [],
   "source": [
    "np.matmul(np.linalg.inv(D), C)"
   ]
  },
  {
   "cell_type": "markdown",
   "metadata": {},
   "source": [
    "# Zastosowanie Numpy do manipulacji obrazów"
   ]
  },
  {
   "cell_type": "code",
   "execution_count": null,
   "metadata": {},
   "outputs": [],
   "source": [
    "!pip install Pillow scipy"
   ]
  },
  {
   "cell_type": "code",
   "execution_count": null,
   "metadata": {},
   "outputs": [],
   "source": [
    "from PIL import Image\n",
    "import requests\n",
    "\n",
    "url = \"https://i.imgur.com/pdVguQ3.jpeg\"\n",
    "im = Image.open(requests.get(url, stream=True).raw)"
   ]
  },
  {
   "cell_type": "code",
   "execution_count": null,
   "metadata": {},
   "outputs": [],
   "source": [
    "im"
   ]
  },
  {
   "cell_type": "code",
   "execution_count": null,
   "metadata": {},
   "outputs": [],
   "source": [
    "ima = np.array(im)\n",
    "ima.shape"
   ]
  },
  {
   "cell_type": "code",
   "execution_count": null,
   "metadata": {},
   "outputs": [],
   "source": [
    "plt.imshow(ima[:,:,0], cmap=\"gray\")"
   ]
  },
  {
   "cell_type": "code",
   "execution_count": null,
   "metadata": {},
   "outputs": [],
   "source": [
    "plt.imshow(ima[:,:,1], cmap=\"gray\")"
   ]
  },
  {
   "cell_type": "code",
   "execution_count": null,
   "metadata": {},
   "outputs": [],
   "source": [
    "plt.imshow(ima[:,:,2], cmap=\"gray\")"
   ]
  },
  {
   "cell_type": "markdown",
   "metadata": {},
   "source": [
    "# Zabawa konwolucjami"
   ]
  },
  {
   "cell_type": "code",
   "execution_count": null,
   "metadata": {},
   "outputs": [],
   "source": [
    "from scipy.ndimage import convolve\n",
    "from PIL import ImageOps"
   ]
  },
  {
   "cell_type": "code",
   "execution_count": null,
   "metadata": {},
   "outputs": [],
   "source": [
    "gimage = np.array(ImageOps.grayscale(image=im))"
   ]
  },
  {
   "cell_type": "code",
   "execution_count": null,
   "metadata": {},
   "outputs": [],
   "source": [
    "gimage.shape"
   ]
  },
  {
   "cell_type": "code",
   "execution_count": null,
   "metadata": {},
   "outputs": [],
   "source": [
    "plt.imshow(gimage, cmap=\"gray\")"
   ]
  },
  {
   "cell_type": "code",
   "execution_count": null,
   "metadata": {},
   "outputs": [],
   "source": [
    "k = np.array(\n",
    "    [[-1, -1, -1],\n",
    "     [-1,  4, -1],\n",
    "     [-1, -1, -1]])\n",
    "plt.imshow(convolve(gimage, k, mode='constant'), cmap=\"binary\")"
   ]
  },
  {
   "cell_type": "code",
   "execution_count": null,
   "metadata": {},
   "outputs": [],
   "source": [
    "# Więcej o konwolucjach tutaj\n",
    "display.YouTubeVideo(\"KuXjwB4LzSA\")"
   ]
  },
  {
   "cell_type": "markdown",
   "metadata": {},
   "source": [
    "# Referencje\n",
    "\n",
    "- https://numpy.org/doc/stable/user/quickstart.html\n",
    "- https://stackoverflow.com/questions/7391945/how-do-i-read-image-data-from-a-url-in-python\n",
    "- https://towardsdatascience.com/write-markdown-latex-in-the-jupyter-notebook-10985edb91fd\n",
    "- https://www.matemaks.pl/uklady-rownan.html\n",
    "- https://docs.python.org/3/library/timeit.html"
   ]
  }
 ],
 "metadata": {
  "kernelspec": {
   "display_name": "Python 3.10.6 ('praca-badawcza')",
   "language": "python",
   "name": "python3"
  },
  "language_info": {
   "codemirror_mode": {
    "name": "ipython",
    "version": 3
   },
   "file_extension": ".py",
   "mimetype": "text/x-python",
   "name": "python",
   "nbconvert_exporter": "python",
   "pygments_lexer": "ipython3",
   "version": "3.10.6"
  },
  "orig_nbformat": 4,
  "vscode": {
   "interpreter": {
    "hash": "cceb67d39855d3ed8fe3c5fa440235ad38281d02ebba667f8a50873580728db3"
   }
  }
 },
 "nbformat": 4,
 "nbformat_minor": 2
}
