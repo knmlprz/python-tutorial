{
 "cells": [
  {
   "cell_type": "markdown",
   "metadata": {},
   "source": [
    "# Programowanie obiektowe: dziedziczenie\n",
    "\n",
    "Klasa bazowa (superclass) -> klasa potomna (subclass, derived class)"
   ]
  },
  {
   "cell_type": "code",
   "execution_count": 12,
   "metadata": {},
   "outputs": [],
   "source": [
    "class Długopis:\n",
    "    kolor: str\n",
    "    ilość_atramentu: float\n",
    "\n",
    "    def __init__(self, kolor: str, ilość_atramentu: float) -> None:\n",
    "        self.kolor = kolor\n",
    "        self.ilość_atramentu = ilość_atramentu\n",
    "        print(f\"Długopis o kolorze {self.kolor}. Zostało {self.ilość_atramentu:.0%} atramentu.\")\n",
    "\n",
    "    def pisz(self) -> str:\n",
    "        return \"Piszę!\"\n",
    "\n",
    "    def zgub_się(self) -> str:\n",
    "        return \"Zgubiłem się xD\""
   ]
  },
  {
   "cell_type": "code",
   "execution_count": 13,
   "metadata": {},
   "outputs": [
    {
     "name": "stdout",
     "output_type": "stream",
     "text": [
      "Długopis o kolorze czerwony. Zostało 90% atramentu.\n"
     ]
    },
    {
     "data": {
      "text/plain": [
       "'Piszę!'"
      ]
     },
     "execution_count": 13,
     "metadata": {},
     "output_type": "execute_result"
    }
   ],
   "source": [
    "długopis_1 = Długopis(kolor=\"czerwony\", ilość_atramentu=0.9)\n",
    "długopis_1.zgub_się()\n",
    "długopis_1.pisz()"
   ]
  },
  {
   "cell_type": "code",
   "execution_count": 14,
   "metadata": {},
   "outputs": [],
   "source": [
    "class DługopisZeSprężyną(Długopis):\n",
    "    włączony: bool = False\n",
    "\n",
    "    def kliknij(self) -> None:\n",
    "        self.włączony ^= True\n",
    "        print(f\"Klik-klik! Długopis jest teraz {'włączony' if self.włączony else 'wyłączony'}.\")"
   ]
  },
  {
   "cell_type": "code",
   "execution_count": 15,
   "metadata": {},
   "outputs": [
    {
     "name": "stdout",
     "output_type": "stream",
     "text": [
      "Długopis o kolorze zielony. Zostało 100% atramentu.\n",
      "Klik-klik! Długopis jest teraz włączony.\n"
     ]
    }
   ],
   "source": [
    "długopis_2 = DługopisZeSprężyną(\"zielony\", 1.0)\n",
    "długopis_2.pisz()\n",
    "długopis_2.kliknij()"
   ]
  },
  {
   "cell_type": "code",
   "execution_count": 16,
   "metadata": {},
   "outputs": [],
   "source": [
    "class DługopisZeŚciągą(Długopis):\n",
    "    tekst_ściągi: str = \"\"\n",
    "\n",
    "    def dodaj_tekst_do_ściągi(self, tekst: str) -> None:\n",
    "        self.tekst_ściągi += tekst\n",
    "        print(\"Dodano tekst do ściągi.\")"
   ]
  },
  {
   "cell_type": "code",
   "execution_count": 17,
   "metadata": {},
   "outputs": [
    {
     "name": "stdout",
     "output_type": "stream",
     "text": [
      "Długopis o kolorze fioletowy. Zostało 60% atramentu.\n",
      "Dodano tekst do ściągi.\n"
     ]
    }
   ],
   "source": [
    "długopis_3 = DługopisZeŚciągą(\"fioletowy\", 0.6)\n",
    "długopis_3.dodaj_tekst_do_ściągi(\"(a+b)^2 = a^2 + 2ab + b^2\")"
   ]
  },
  {
   "cell_type": "code",
   "execution_count": 18,
   "metadata": {},
   "outputs": [],
   "source": [
    "class SuperDługopis(DługopisZeSprężyną, DługopisZeŚciągą):\n",
    "    pass"
   ]
  },
  {
   "cell_type": "code",
   "execution_count": 19,
   "metadata": {},
   "outputs": [
    {
     "name": "stdout",
     "output_type": "stream",
     "text": [
      "Długopis o kolorze pomarańczowy. Zostało 80% atramentu.\n",
      "Klik-klik! Długopis jest teraz włączony.\n",
      "Dodano tekst do ściągi.\n"
     ]
    },
    {
     "data": {
      "text/plain": [
       "'Zgubiłem się xD'"
      ]
     },
     "execution_count": 19,
     "metadata": {},
     "output_type": "execute_result"
    }
   ],
   "source": [
    "długopis_4 = SuperDługopis(\"pomarańczowy\", 0.8)\n",
    "długopis_4.kliknij()\n",
    "długopis_4.dodaj_tekst_do_ściągi(\"a^2 - b^2 = (a-b)(a+b)\")\n",
    "długopis_4.zgub_się()"
   ]
  },
  {
   "cell_type": "markdown",
   "metadata": {},
   "source": [
    "# Programowanie obiektowe: polimorfizm"
   ]
  },
  {
   "cell_type": "code",
   "execution_count": 20,
   "metadata": {},
   "outputs": [],
   "source": [
    "import math\n",
    "from typing import Union\n",
    "\n",
    "class Point:\n",
    "    x: float\n",
    "    y: float\n",
    "\n",
    "    def __init__(self, x: float, y: float) -> None:\n",
    "        self.x = x\n",
    "        self.y = y\n",
    "\n",
    "    def __repr__(self):\n",
    "        return f\"Point({self.x}, {self.y})\"\n",
    "\n",
    "\n",
    "def distance(a: Point, b: Point):\n",
    "    return math.sqrt((a.x - b.x) ** 2 + (a.y - b.y) ** 2)\n",
    "\n",
    "\n",
    "class Vector:\n",
    "    x: float\n",
    "    y: float\n",
    "    start: Point\n",
    "    end: Point\n",
    "\n",
    "\n",
    "    # Starting from Python 3.10 we can use \"|\" symbol instead of Union:\n",
    "    # def __init__(self, x: float | Point, y: float | Point) -> None:\n",
    "    def __init__(self, x: Union[float, Point], y: Union[float, Point]) -> None:\n",
    "        if isinstance(x, Point) and isinstance(y, Point):\n",
    "            self.start, self.end = x, y\n",
    "            self.x = self.end.x - self.start.x\n",
    "            self.y = self.end.y - self.start.y\n",
    "        elif (isinstance(x, int) or isinstance(x, float)) and (isinstance(y, float) or isinstance(y, int)):\n",
    "            self.x, self.y = x, y\n",
    "            self.start = Point(0, 0)\n",
    "            self.end = Point(self.x, self.y)\n",
    "        else:\n",
    "            raise TypeError(\"Class can be constructed only if both inputs are Points or float numbers.\")\n",
    "\n",
    "    def __repr__(self):\n",
    "        return f\"Vector({self.x}, {self.y})\"\n",
    "\n",
    "    def __add__(self, obj):\n",
    "        if isinstance(obj, Vector):\n",
    "            return Vector(self.x + obj.x, self.y + obj.y)\n",
    "        else:\n",
    "            raise TypeError(f\"Unclear how to add {type(self)} and {type(obj)}.\")\n",
    "\n",
    "    def __mul__(self, obj):\n",
    "        if isinstance(obj, Vector):\n",
    "            return self.x * obj.x + self.y * obj.y \n",
    "        elif isinstance(obj, int) or isinstance(obj, float):\n",
    "            return Vector(self.x * obj, self.y * obj)\n",
    "        else: \n",
    "            raise TypeError(f\"Unclear how to multiply {type(self)} and {type(obj)}.\")\n",
    "\n",
    "    def __len__(self):\n",
    "        return 2\n",
    "\n",
    "    @property\n",
    "    def length(self):\n",
    "        return math.sqrt(self.x ** 2 + self.y ** 2)"
   ]
  },
  {
   "cell_type": "code",
   "execution_count": 21,
   "metadata": {},
   "outputs": [
    {
     "data": {
      "text/plain": [
       "15.0"
      ]
     },
     "execution_count": 21,
     "metadata": {},
     "output_type": "execute_result"
    }
   ],
   "source": [
    "a = Point(0, 12)\n",
    "distance(a, Point(9, 0))"
   ]
  },
  {
   "cell_type": "code",
   "execution_count": 22,
   "metadata": {},
   "outputs": [
    {
     "data": {
      "text/plain": [
       "4.47"
      ]
     },
     "execution_count": 22,
     "metadata": {},
     "output_type": "execute_result"
    }
   ],
   "source": [
    "Vector(0, 1) + Vector(2, 15)\n",
    "Vector(2, 5) * (Vector(10, 14) + Vector(3, 2) * (-2))\n",
    "round(Vector(2, 4).length, 2)"
   ]
  }
 ],
 "metadata": {
  "kernelspec": {
   "display_name": "Python 3.9.5 ('Python-Jupyter')",
   "language": "python",
   "name": "python3"
  },
  "language_info": {
   "codemirror_mode": {
    "name": "ipython",
    "version": 3
   },
   "file_extension": ".py",
   "mimetype": "text/x-python",
   "name": "python",
   "nbconvert_exporter": "python",
   "pygments_lexer": "ipython3",
   "version": "3.9.5"
  },
  "orig_nbformat": 4,
  "vscode": {
   "interpreter": {
    "hash": "1efa12097c594b99412c99447a67df2e75ac015bd208959ac755023d5a7f9e77"
   }
  }
 },
 "nbformat": 4,
 "nbformat_minor": 2
}
